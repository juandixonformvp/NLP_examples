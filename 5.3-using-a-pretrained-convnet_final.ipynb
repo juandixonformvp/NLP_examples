{
 "cells": [
  {
   "cell_type": "markdown",
   "metadata": {
    "colab_type": "text",
    "id": "aq60rEAC7fOw"
   },
   "source": [
    "# Robert Chang\n",
    "# CSCIS-89 HW3"
   ]
  },
  {
   "cell_type": "markdown",
   "metadata": {
    "colab_type": "text",
    "id": "IVrDcuJLvZCD"
   },
   "source": [
    "# Problem 4. We are asking you to examine in detail so called Feature Extraction technique. First run the experiment in cell #9, as provided. Then change that cell and rather than adding just one Flatten and two Dense layers, try adding the trainable portion with one Conv2D, one Flatten and two Dense layers. Capture the history of both training runs and plot loss and accuracy."
   ]
  },
  {
   "cell_type": "code",
   "execution_count": 0,
   "metadata": {
    "colab": {
     "base_uri": "https://localhost:8080/",
     "height": 122
    },
    "colab_type": "code",
    "executionInfo": {
     "elapsed": 29735,
     "status": "ok",
     "timestamp": 1563246771399,
     "user": {
      "displayName": "Robert Chang",
      "photoUrl": "",
      "userId": "08300392475581311813"
     },
     "user_tz": 240
    },
    "id": "XGAsLLCq__ta",
    "outputId": "e298c67b-c059-464d-dfa9-8b95a8f7e8e2"
   },
   "outputs": [
    {
     "name": "stdout",
     "output_type": "stream",
     "text": [
      "Go to this URL in a browser: https://accounts.google.com/o/oauth2/auth?client_id=947318989803-6bn6qk8qdgf4n4g3pfee6491hc0brc4i.apps.googleusercontent.com&redirect_uri=urn%3Aietf%3Awg%3Aoauth%3A2.0%3Aoob&scope=email%20https%3A%2F%2Fwww.googleapis.com%2Fauth%2Fdocs.test%20https%3A%2F%2Fwww.googleapis.com%2Fauth%2Fdrive%20https%3A%2F%2Fwww.googleapis.com%2Fauth%2Fdrive.photos.readonly%20https%3A%2F%2Fwww.googleapis.com%2Fauth%2Fpeopleapi.readonly&response_type=code\n",
      "\n",
      "Enter your authorization code:\n",
      "··········\n",
      "Mounted at /content/drive\n"
     ]
    }
   ],
   "source": [
    "from google.colab import drive\n",
    "drive.mount('/content/drive')"
   ]
  },
  {
   "cell_type": "code",
   "execution_count": 0,
   "metadata": {
    "colab": {
     "base_uri": "https://localhost:8080/",
     "height": 51
    },
    "colab_type": "code",
    "executionInfo": {
     "elapsed": 2270,
     "status": "ok",
     "timestamp": 1563246775126,
     "user": {
      "displayName": "Robert Chang",
      "photoUrl": "",
      "userId": "08300392475581311813"
     },
     "user_tz": 240
    },
    "id": "XG1nWwTK9Jaf",
    "outputId": "c7c57d11-feec-44bc-dc4c-9d8dd546128d"
   },
   "outputs": [
    {
     "name": "stderr",
     "output_type": "stream",
     "text": [
      "Using TensorFlow backend.\n"
     ]
    },
    {
     "data": {
      "text/plain": [
       "'2.2.4'"
      ]
     },
     "execution_count": 2,
     "metadata": {
      "tags": []
     },
     "output_type": "execute_result"
    }
   ],
   "source": [
    "import keras\n",
    "keras.__version__"
   ]
  },
  {
   "cell_type": "markdown",
   "metadata": {
    "colab_type": "text",
    "id": "zYMJF1pg9Jak"
   },
   "source": [
    "# Using a pre-trained convnet\n",
    "\n",
    "This notebook contains the code sample found in Chapter 5, Section 3 of [Deep Learning with Python](https://www.manning.com/books/deep-learning-with-python?a_aid=keras&a_bid=76564dff). Note that the original text features far more content, in particular further explanations and figures: in this notebook, you will only find source code and related comments.\n",
    "\n",
    "----\n",
    "\n",
    "A common and highly effective approach to deep learning on small image datasets is to leverage a pre-trained network. A pre-trained network \n",
    "is simply a saved network previously trained on a large dataset, typically on a large-scale image classification task. If this original \n",
    "dataset is large enough and general enough, then the spatial feature hierarchy learned by the pre-trained network can effectively act as a \n",
    "generic model of our visual world, and hence its features can prove useful for many different computer vision problems, even though these \n",
    "new problems might involve completely different classes from those of the original task. For instance, one might train a network on \n",
    "ImageNet (where classes are mostly animals and everyday objects) and then re-purpose this trained network for something as remote as \n",
    "identifying furniture items in images. Such portability of learned features across different problems is a key advantage of deep learning \n",
    "compared to many older shallow learning approaches, and it makes deep learning very effective for small-data problems.\n",
    "\n",
    "In our case, we will consider a large convnet trained on the ImageNet dataset (1.4 million labeled images and 1000 different classes). \n",
    "ImageNet contains many animal classes, including different species of cats and dogs, and we can thus expect to perform very well on our cat \n",
    "vs. dog classification problem.\n",
    "\n",
    "We will use the VGG16 architecture, developed by Karen Simonyan and Andrew Zisserman in 2014, a simple and widely used convnet architecture \n",
    "for ImageNet. Although it is a bit of an older model, far from the current state of the art and somewhat heavier than many other recent \n",
    "models, we chose it because its architecture is similar to what you are already familiar with, and easy to understand without introducing \n",
    "any new concepts. This may be your first encounter with one of these cutesie model names -- VGG, ResNet, Inception, Inception-ResNet, \n",
    "Xception... you will get used to them, as they will come up frequently if you keep doing deep learning for computer vision.\n",
    "\n",
    "There are two ways to leverage a pre-trained network: *feature extraction* and *fine-tuning*. We will cover both of them. Let's start with \n",
    "feature extraction."
   ]
  },
  {
   "cell_type": "markdown",
   "metadata": {
    "colab_type": "text",
    "id": "hQTxrfHJ9Jam"
   },
   "source": [
    "## Feature extraction\n",
    "\n",
    "Feature extraction consists of using the representations learned by a previous network to extract interesting features from new samples. \n",
    "These features are then run through a new classifier, which is trained from scratch.\n",
    "\n",
    "As we saw previously, convnets used for image classification comprise two parts: they start with a series of pooling and convolution \n",
    "layers, and they end with a densely-connected classifier. The first part is called the \"convolutional base\" of the model. In the case of \n",
    "convnets, \"feature extraction\" will simply consist of taking the convolutional base of a previously-trained network, running the new data \n",
    "through it, and training a new classifier on top of the output.\n",
    "\n",
    "![swapping FC classifiers](https://s3.amazonaws.com/book.keras.io/img/ch5/swapping_fc_classifier.png)\n",
    "\n",
    "Why only reuse the convolutional base? Could we reuse the densely-connected classifier as well? In general, it should be avoided. The \n",
    "reason is simply that the representations learned by the convolutional base are likely to be more generic and therefore more reusable: the \n",
    "feature maps of a convnet are presence maps of generic concepts over a picture, which is likely to be useful regardless of the computer \n",
    "vision problem at hand. On the other end, the representations learned by the classifier will necessarily be very specific to the set of \n",
    "classes that the model was trained on -- they will only contain information about the presence probability of this or that class in the \n",
    "entire picture. Additionally, representations found in densely-connected layers no longer contain any information about _where_ objects are \n",
    "located in the input image: these layers get rid of the notion of space, whereas the object location is still described by convolutional \n",
    "feature maps. For problems where object location matters, densely-connected features would be largely useless.\n",
    "\n",
    "Note that the level of generality (and therefore reusability) of the representations extracted by specific convolution layers depends on \n",
    "the depth of the layer in the model. Layers that come earlier in the model extract local, highly generic feature maps (such as visual \n",
    "edges, colors, and textures), while layers higher-up extract more abstract concepts (such as \"cat ear\" or \"dog eye\"). So if your new \n",
    "dataset differs a lot from the dataset that the original model was trained on, you may be better off using only the first few layers of the \n",
    "model to do feature extraction, rather than using the entire convolutional base.\n",
    "\n",
    "In our case, since the ImageNet class set did contain multiple dog and cat classes, it is likely that it would be beneficial to reuse the \n",
    "information contained in the densely-connected layers of the original model. However, we will chose not to, in order to cover the more \n",
    "general case where the class set of the new problem does not overlap with the class set of the original model."
   ]
  },
  {
   "cell_type": "markdown",
   "metadata": {
    "colab_type": "text",
    "id": "reApscK59Jan"
   },
   "source": [
    "Let's put this in practice by using the convolutional base of the VGG16 network, trained on ImageNet, to extract interesting features from \n",
    "our cat and dog images, and then training a cat vs. dog classifier on top of these features.\n",
    "\n",
    "The VGG16 model, among others, comes pre-packaged with Keras. You can import it from the `keras.applications` module. Here's the list of \n",
    "image classification models (all pre-trained on the ImageNet dataset) that are available as part of `keras.applications`:\n",
    "\n",
    "* Xception\n",
    "* InceptionV3\n",
    "* ResNet50\n",
    "* VGG16\n",
    "* VGG19\n",
    "* MobileNet\n",
    "\n",
    "Let's instantiate the VGG16 model:"
   ]
  },
  {
   "cell_type": "code",
   "execution_count": 0,
   "metadata": {
    "colab": {
     "base_uri": "https://localhost:8080/",
     "height": 292
    },
    "colab_type": "code",
    "executionInfo": {
     "elapsed": 7484,
     "status": "ok",
     "timestamp": 1563246787620,
     "user": {
      "displayName": "Robert Chang",
      "photoUrl": "",
      "userId": "08300392475581311813"
     },
     "user_tz": 240
    },
    "id": "t4SMQz_09Jao",
    "outputId": "51ad6b21-159b-4c28-ee2f-98d565afd441"
   },
   "outputs": [
    {
     "name": "stderr",
     "output_type": "stream",
     "text": [
      "WARNING: Logging before flag parsing goes to stderr.\n",
      "W0716 03:13:00.244391 139660414838656 deprecation_wrapper.py:119] From /usr/local/lib/python3.6/dist-packages/keras/backend/tensorflow_backend.py:74: The name tf.get_default_graph is deprecated. Please use tf.compat.v1.get_default_graph instead.\n",
      "\n",
      "W0716 03:13:00.300180 139660414838656 deprecation_wrapper.py:119] From /usr/local/lib/python3.6/dist-packages/keras/backend/tensorflow_backend.py:517: The name tf.placeholder is deprecated. Please use tf.compat.v1.placeholder instead.\n",
      "\n",
      "W0716 03:13:00.308797 139660414838656 deprecation_wrapper.py:119] From /usr/local/lib/python3.6/dist-packages/keras/backend/tensorflow_backend.py:4138: The name tf.random_uniform is deprecated. Please use tf.random.uniform instead.\n",
      "\n",
      "W0716 03:13:00.358323 139660414838656 deprecation_wrapper.py:119] From /usr/local/lib/python3.6/dist-packages/keras/backend/tensorflow_backend.py:3976: The name tf.nn.max_pool is deprecated. Please use tf.nn.max_pool2d instead.\n",
      "\n"
     ]
    },
    {
     "name": "stdout",
     "output_type": "stream",
     "text": [
      "Downloading data from https://github.com/fchollet/deep-learning-models/releases/download/v0.1/vgg16_weights_tf_dim_ordering_tf_kernels_notop.h5\n",
      "58892288/58889256 [==============================] - 2s 0us/step\n"
     ]
    },
    {
     "name": "stderr",
     "output_type": "stream",
     "text": [
      "W0716 03:13:03.447731 139660414838656 deprecation_wrapper.py:119] From /usr/local/lib/python3.6/dist-packages/keras/backend/tensorflow_backend.py:174: The name tf.get_default_session is deprecated. Please use tf.compat.v1.get_default_session instead.\n",
      "\n",
      "W0716 03:13:03.449006 139660414838656 deprecation_wrapper.py:119] From /usr/local/lib/python3.6/dist-packages/keras/backend/tensorflow_backend.py:181: The name tf.ConfigProto is deprecated. Please use tf.compat.v1.ConfigProto instead.\n",
      "\n"
     ]
    }
   ],
   "source": [
    "from keras.applications import VGG16\n",
    "\n",
    "conv_base = VGG16(weights='imagenet',\n",
    "                  include_top=False,\n",
    "                  input_shape=(150, 150, 3))"
   ]
  },
  {
   "cell_type": "markdown",
   "metadata": {
    "colab_type": "text",
    "id": "9LUAxtdB9Jat"
   },
   "source": [
    "We passed three arguments to the constructor:\n",
    "\n",
    "* `weights`, to specify which weight checkpoint to initialize the model from\n",
    "* `include_top`, which refers to including or not the densely-connected classifier on top of the network. By default, this \n",
    "densely-connected classifier would correspond to the 1000 classes from ImageNet. Since we intend to use our own densely-connected \n",
    "classifier (with only two classes, cat and dog), we don't need to include it.\n",
    "* `input_shape`, the shape of the image tensors that we will feed to the network. This argument is purely optional: if we don't pass it, \n",
    "then the network will be able to process inputs of any size.\n",
    "\n",
    "Here's the detail of the architecture of the VGG16 convolutional base: it's very similar to the simple convnets that you are already \n",
    "familiar with."
   ]
  },
  {
   "cell_type": "code",
   "execution_count": 0,
   "metadata": {
    "colab": {
     "base_uri": "https://localhost:8080/",
     "height": 782
    },
    "colab_type": "code",
    "executionInfo": {
     "elapsed": 820,
     "status": "ok",
     "timestamp": 1563246791658,
     "user": {
      "displayName": "Robert Chang",
      "photoUrl": "",
      "userId": "08300392475581311813"
     },
     "user_tz": 240
    },
    "id": "WHy39oaz9Jav",
    "outputId": "96e47c14-6a7e-420e-a42d-3ab579008d9e"
   },
   "outputs": [
    {
     "name": "stdout",
     "output_type": "stream",
     "text": [
      "_________________________________________________________________\n",
      "Layer (type)                 Output Shape              Param #   \n",
      "=================================================================\n",
      "input_1 (InputLayer)         (None, 150, 150, 3)       0         \n",
      "_________________________________________________________________\n",
      "block1_conv1 (Conv2D)        (None, 150, 150, 64)      1792      \n",
      "_________________________________________________________________\n",
      "block1_conv2 (Conv2D)        (None, 150, 150, 64)      36928     \n",
      "_________________________________________________________________\n",
      "block1_pool (MaxPooling2D)   (None, 75, 75, 64)        0         \n",
      "_________________________________________________________________\n",
      "block2_conv1 (Conv2D)        (None, 75, 75, 128)       73856     \n",
      "_________________________________________________________________\n",
      "block2_conv2 (Conv2D)        (None, 75, 75, 128)       147584    \n",
      "_________________________________________________________________\n",
      "block2_pool (MaxPooling2D)   (None, 37, 37, 128)       0         \n",
      "_________________________________________________________________\n",
      "block3_conv1 (Conv2D)        (None, 37, 37, 256)       295168    \n",
      "_________________________________________________________________\n",
      "block3_conv2 (Conv2D)        (None, 37, 37, 256)       590080    \n",
      "_________________________________________________________________\n",
      "block3_conv3 (Conv2D)        (None, 37, 37, 256)       590080    \n",
      "_________________________________________________________________\n",
      "block3_pool (MaxPooling2D)   (None, 18, 18, 256)       0         \n",
      "_________________________________________________________________\n",
      "block4_conv1 (Conv2D)        (None, 18, 18, 512)       1180160   \n",
      "_________________________________________________________________\n",
      "block4_conv2 (Conv2D)        (None, 18, 18, 512)       2359808   \n",
      "_________________________________________________________________\n",
      "block4_conv3 (Conv2D)        (None, 18, 18, 512)       2359808   \n",
      "_________________________________________________________________\n",
      "block4_pool (MaxPooling2D)   (None, 9, 9, 512)         0         \n",
      "_________________________________________________________________\n",
      "block5_conv1 (Conv2D)        (None, 9, 9, 512)         2359808   \n",
      "_________________________________________________________________\n",
      "block5_conv2 (Conv2D)        (None, 9, 9, 512)         2359808   \n",
      "_________________________________________________________________\n",
      "block5_conv3 (Conv2D)        (None, 9, 9, 512)         2359808   \n",
      "_________________________________________________________________\n",
      "block5_pool (MaxPooling2D)   (None, 4, 4, 512)         0         \n",
      "=================================================================\n",
      "Total params: 14,714,688\n",
      "Trainable params: 14,714,688\n",
      "Non-trainable params: 0\n",
      "_________________________________________________________________\n"
     ]
    }
   ],
   "source": [
    "conv_base.summary()"
   ]
  },
  {
   "cell_type": "markdown",
   "metadata": {
    "colab_type": "text",
    "id": "C8QcwzPQ9Jay"
   },
   "source": [
    "The final feature map has shape `(4, 4, 512)`. That's the feature on top of which we will stick a densely-connected classifier.\n",
    "\n",
    "At this point, there are two ways we could proceed: \n",
    "\n",
    "* Running the convolutional base over our dataset, recording its output to a Numpy array on disk, then using this data as input to a \n",
    "standalone densely-connected classifier similar to those you have seen in the first chapters of this book. This solution is very fast and \n",
    "cheap to run, because it only requires running the convolutional base once for every input image, and the convolutional base is by far the \n",
    "most expensive part of the pipeline. However, for the exact same reason, this technique would not allow us to leverage data augmentation at \n",
    "all.\n",
    "* Extending the model we have (`conv_base`) by adding `Dense` layers on top, and running the whole thing end-to-end on the input data. This \n",
    "allows us to use data augmentation, because every input image is going through the convolutional base every time it is seen by the model. \n",
    "However, for this same reason, this technique is far more expensive than the first one.\n",
    "\n",
    "We will cover both techniques. Let's walk through the code required to set-up the first one: recording the output of `conv_base` on our \n",
    "data and using these outputs as inputs to a new model.\n",
    "\n",
    "We will start by simply running instances of the previously-introduced `ImageDataGenerator` to extract images as Numpy arrays as well as \n",
    "their labels. We will extract features from these images simply by calling the `predict` method of the `conv_base` model."
   ]
  },
  {
   "cell_type": "code",
   "execution_count": 0,
   "metadata": {
    "colab": {
     "base_uri": "https://localhost:8080/",
     "height": 68
    },
    "colab_type": "code",
    "executionInfo": {
     "elapsed": 41335,
     "status": "ok",
     "timestamp": 1563249081100,
     "user": {
      "displayName": "Robert Chang",
      "photoUrl": "",
      "userId": "08300392475581311813"
     },
     "user_tz": 240
    },
    "id": "RvpHBzuG9Jaz",
    "outputId": "10f3a210-f93f-4e57-c9c4-8e4cc700c967"
   },
   "outputs": [
    {
     "name": "stdout",
     "output_type": "stream",
     "text": [
      "Found 2000 images belonging to 2 classes.\n",
      "Found 1000 images belonging to 2 classes.\n",
      "Found 1000 images belonging to 2 classes.\n"
     ]
    }
   ],
   "source": [
    "import os\n",
    "import numpy as np\n",
    "from keras.preprocessing.image import ImageDataGenerator\n",
    "\n",
    "# base_dir = 'E:/code_nlp/Assign03/small'\n",
    "\n",
    "train_dir = '/content/drive/My Drive/Colab Notebooks/CSCI_89_HW_3/train/'\n",
    "validation_dir = '/content/drive/My Drive/Colab Notebooks/CSCI_89_HW_3/validation/'\n",
    "test_dir = '/content/drive/My Drive/Colab Notebooks/CSCI_89_HW_3/test/'\n",
    "\n",
    "datagen = ImageDataGenerator(rescale=1./255)\n",
    "batch_size = 20\n",
    "\n",
    "def extract_features(directory, sample_count):\n",
    "    features = np.zeros(shape=(sample_count, 4, 4, 512))\n",
    "    labels = np.zeros(shape=(sample_count))\n",
    "    generator = datagen.flow_from_directory(\n",
    "        directory,\n",
    "        target_size=(150, 150),\n",
    "        batch_size=batch_size,\n",
    "        class_mode='binary')\n",
    "    i = 0\n",
    "    for inputs_batch, labels_batch in generator:\n",
    "        features_batch = conv_base.predict(inputs_batch)\n",
    "        features[i * batch_size : (i + 1) * batch_size] = features_batch\n",
    "        labels[i * batch_size : (i + 1) * batch_size] = labels_batch\n",
    "        i += 1\n",
    "        if i * batch_size >= sample_count:\n",
    "            # Note that since generators yield data indefinitely in a loop,\n",
    "            # we must `break` after every image has been seen once.\n",
    "            break\n",
    "    return features, labels\n",
    "\n",
    "train_features, train_labels = extract_features(train_dir, 2000)\n",
    "validation_features, validation_labels = extract_features(validation_dir, 1000)\n",
    "test_features, test_labels = extract_features(test_dir, 1000)"
   ]
  },
  {
   "cell_type": "markdown",
   "metadata": {
    "colab_type": "text",
    "id": "MbAQ0W2k9Ja3"
   },
   "source": [
    "The extracted features are currently of shape `(samples, 4, 4, 512)`. We will feed them to a densely-connected classifier, so first we must \n",
    "flatten them to `(samples, 8192)`:"
   ]
  },
  {
   "cell_type": "markdown",
   "metadata": {
    "colab_type": "text",
    "id": "uLkDnPzF8qdw"
   },
   "source": [
    "## I first conduct the first example in the notebook, where the input images are run through the VGG16 model and then trained on an additional two dense layers. However I add my own convolutional layer after VGG16 and before the dense layers. In the Chollet example the VGG16 output is flattened before training the two dense layers, however, since I added my own convolutional layer I do not flatten the VGG16 output."
   ]
  },
  {
   "cell_type": "code",
   "execution_count": 0,
   "metadata": {
    "colab": {},
    "colab_type": "code",
    "id": "te_WG7ww5gZO"
   },
   "outputs": [],
   "source": [
    "MY1train_features = train_features\n",
    "MY1validation_features = validation_features\n",
    "MY1test_features = test_features"
   ]
  },
  {
   "cell_type": "code",
   "execution_count": 0,
   "metadata": {
    "colab": {},
    "colab_type": "code",
    "id": "Y7jtNQ3x9Ja4"
   },
   "outputs": [],
   "source": [
    "train_features = np.reshape(train_features, (2000, 4 * 4 * 512))\n",
    "validation_features = np.reshape(validation_features, (1000, 4 * 4 * 512))\n",
    "test_features = np.reshape(test_features, (1000, 4 * 4 * 512))"
   ]
  },
  {
   "cell_type": "markdown",
   "metadata": {
    "colab_type": "text",
    "id": "ZhBUa7SG9U7o"
   },
   "source": [
    "## The convolutional layer I added has 32 filters, with 2-dimensional filter size of 3x3., activation 'relu'. The Chollet example is slightly more accurate than my model but the loss is almost the same."
   ]
  },
  {
   "cell_type": "markdown",
   "metadata": {
    "colab_type": "text",
    "id": "86dDBcU69Ja8"
   },
   "source": [
    "At this point, we can define our densely-connected classifier (note the use of dropout for regularization), and train it on the data and \n",
    "labels that we just recorded:"
   ]
  },
  {
   "cell_type": "code",
   "execution_count": 0,
   "metadata": {
    "colab": {
     "base_uri": "https://localhost:8080/",
     "height": 544
    },
    "colab_type": "code",
    "executionInfo": {
     "elapsed": 13687,
     "status": "ok",
     "timestamp": 1563249191973,
     "user": {
      "displayName": "Robert Chang",
      "photoUrl": "",
      "userId": "08300392475581311813"
     },
     "user_tz": 240
    },
    "id": "uyRnBeUZ3o4W",
    "outputId": "7b3a6354-41ba-4502-a224-b18e99d1a109"
   },
   "outputs": [
    {
     "name": "stdout",
     "output_type": "stream",
     "text": [
      "Train on 2000 samples, validate on 1000 samples\n",
      "Epoch 1/15\n",
      "2000/2000 [==============================] - 2s 959us/step - loss: 0.6879 - acc: 0.5545 - val_loss: 0.6401 - val_acc: 0.7060\n",
      "Epoch 2/15\n",
      "2000/2000 [==============================] - 1s 385us/step - loss: 0.6300 - acc: 0.6460 - val_loss: 0.5751 - val_acc: 0.7920\n",
      "Epoch 3/15\n",
      "2000/2000 [==============================] - 1s 383us/step - loss: 0.5567 - acc: 0.7390 - val_loss: 0.5042 - val_acc: 0.8270\n",
      "Epoch 4/15\n",
      "2000/2000 [==============================] - 1s 381us/step - loss: 0.4876 - acc: 0.7925 - val_loss: 0.4435 - val_acc: 0.8310\n",
      "Epoch 5/15\n",
      "2000/2000 [==============================] - 1s 397us/step - loss: 0.4338 - acc: 0.8105 - val_loss: 0.3987 - val_acc: 0.8420\n",
      "Epoch 6/15\n",
      "2000/2000 [==============================] - 1s 379us/step - loss: 0.3977 - acc: 0.8380 - val_loss: 0.3632 - val_acc: 0.8560\n",
      "Epoch 7/15\n",
      "2000/2000 [==============================] - 1s 383us/step - loss: 0.3614 - acc: 0.8480 - val_loss: 0.3377 - val_acc: 0.8650\n",
      "Epoch 8/15\n",
      "2000/2000 [==============================] - 1s 382us/step - loss: 0.3332 - acc: 0.8615 - val_loss: 0.3275 - val_acc: 0.8640\n",
      "Epoch 9/15\n",
      "2000/2000 [==============================] - 1s 384us/step - loss: 0.3141 - acc: 0.8715 - val_loss: 0.3036 - val_acc: 0.8680\n",
      "Epoch 10/15\n",
      "2000/2000 [==============================] - 1s 383us/step - loss: 0.2952 - acc: 0.8810 - val_loss: 0.2901 - val_acc: 0.8810\n",
      "Epoch 11/15\n",
      "2000/2000 [==============================] - 1s 381us/step - loss: 0.2822 - acc: 0.8790 - val_loss: 0.2809 - val_acc: 0.8840\n",
      "Epoch 12/15\n",
      "2000/2000 [==============================] - 1s 382us/step - loss: 0.2758 - acc: 0.8880 - val_loss: 0.2742 - val_acc: 0.8870\n",
      "Epoch 13/15\n",
      "2000/2000 [==============================] - 1s 380us/step - loss: 0.2526 - acc: 0.9005 - val_loss: 0.2660 - val_acc: 0.8940\n",
      "Epoch 14/15\n",
      "2000/2000 [==============================] - 1s 381us/step - loss: 0.2483 - acc: 0.8990 - val_loss: 0.2606 - val_acc: 0.8980\n",
      "Epoch 15/15\n",
      "2000/2000 [==============================] - 1s 383us/step - loss: 0.2459 - acc: 0.9035 - val_loss: 0.2561 - val_acc: 0.8990\n"
     ]
    }
   ],
   "source": [
    "from keras import models\n",
    "from keras import layers\n",
    "from keras import optimizers\n",
    "\n",
    "MY1model = models.Sequential()\n",
    "MY1model.add(layers.Conv2D(32, (3, 3), activation='relu', input_shape=(4, 4, 512)))\n",
    "MY1model.add(layers.Flatten())\n",
    "MY1model.add(layers.Dense(256, activation='relu'))\n",
    "MY1model.add(layers.Dropout(0.5))\n",
    "MY1model.add(layers.Dense(1, activation='sigmoid'))\n",
    "\n",
    "MY1model.compile(optimizer=optimizers.RMSprop(lr=2e-5),\n",
    "              loss='binary_crossentropy',\n",
    "              metrics=['acc'])\n",
    "\n",
    "MY1history = MY1model.fit(MY1train_features, train_labels,\n",
    "                    epochs=15,\n",
    "                    batch_size=20,\n",
    "                    validation_data=(MY1validation_features, validation_labels))"
   ]
  },
  {
   "cell_type": "code",
   "execution_count": 0,
   "metadata": {
    "colab": {
     "base_uri": "https://localhost:8080/",
     "height": 700
    },
    "colab_type": "code",
    "executionInfo": {
     "elapsed": 10485,
     "status": "ok",
     "timestamp": 1563103369160,
     "user": {
      "displayName": "Robert Chang",
      "photoUrl": "",
      "userId": "08300392475581311813"
     },
     "user_tz": 240
    },
    "id": "E2smFFAj9Ja9",
    "outputId": "2ece3ae3-e9f5-4c85-e5bd-0bff14f04940"
   },
   "outputs": [
    {
     "name": "stderr",
     "output_type": "stream",
     "text": [
      "W0714 11:22:38.682629 139725479319424 deprecation.py:506] From /usr/local/lib/python3.6/dist-packages/keras/backend/tensorflow_backend.py:3445: calling dropout (from tensorflow.python.ops.nn_ops) with keep_prob is deprecated and will be removed in a future version.\n",
      "Instructions for updating:\n",
      "Please use `rate` instead of `keep_prob`. Rate should be set to `rate = 1 - keep_prob`.\n",
      "W0714 11:22:38.828521 139725479319424 deprecation_wrapper.py:119] From /usr/local/lib/python3.6/dist-packages/keras/optimizers.py:790: The name tf.train.Optimizer is deprecated. Please use tf.compat.v1.train.Optimizer instead.\n",
      "\n",
      "W0714 11:22:38.838490 139725479319424 deprecation.py:323] From /usr/local/lib/python3.6/dist-packages/tensorflow/python/ops/nn_impl.py:180: add_dispatch_support.<locals>.wrapper (from tensorflow.python.ops.array_ops) is deprecated and will be removed in a future version.\n",
      "Instructions for updating:\n",
      "Use tf.where in 2.0, which has the same broadcast rule as np.where\n"
     ]
    },
    {
     "name": "stdout",
     "output_type": "stream",
     "text": [
      "Train on 2000 samples, validate on 1000 samples\n",
      "Epoch 1/15\n",
      "2000/2000 [==============================] - 2s 850us/step - loss: 0.5882 - acc: 0.6800 - val_loss: 0.4430 - val_acc: 0.8390\n",
      "Epoch 2/15\n",
      "2000/2000 [==============================] - 1s 302us/step - loss: 0.4386 - acc: 0.8035 - val_loss: 0.3616 - val_acc: 0.8650\n",
      "Epoch 3/15\n",
      "2000/2000 [==============================] - 1s 295us/step - loss: 0.3604 - acc: 0.8400 - val_loss: 0.3251 - val_acc: 0.8800\n",
      "Epoch 4/15\n",
      "2000/2000 [==============================] - 1s 302us/step - loss: 0.3176 - acc: 0.8650 - val_loss: 0.3065 - val_acc: 0.8760\n",
      "Epoch 5/15\n",
      "2000/2000 [==============================] - 1s 275us/step - loss: 0.2897 - acc: 0.8820 - val_loss: 0.2870 - val_acc: 0.8870\n",
      "Epoch 6/15\n",
      "2000/2000 [==============================] - 1s 270us/step - loss: 0.2630 - acc: 0.9035 - val_loss: 0.2743 - val_acc: 0.8940\n",
      "Epoch 7/15\n",
      "2000/2000 [==============================] - 1s 270us/step - loss: 0.2539 - acc: 0.9020 - val_loss: 0.2665 - val_acc: 0.8970\n",
      "Epoch 8/15\n",
      "2000/2000 [==============================] - 1s 286us/step - loss: 0.2371 - acc: 0.9110 - val_loss: 0.2603 - val_acc: 0.8980\n",
      "Epoch 9/15\n",
      "2000/2000 [==============================] - 1s 293us/step - loss: 0.2275 - acc: 0.9145 - val_loss: 0.2556 - val_acc: 0.8970\n",
      "Epoch 10/15\n",
      "2000/2000 [==============================] - 1s 290us/step - loss: 0.2112 - acc: 0.9205 - val_loss: 0.2648 - val_acc: 0.8930\n",
      "Epoch 11/15\n",
      "2000/2000 [==============================] - 1s 303us/step - loss: 0.2006 - acc: 0.9250 - val_loss: 0.2486 - val_acc: 0.8960\n",
      "Epoch 12/15\n",
      "2000/2000 [==============================] - 1s 289us/step - loss: 0.1928 - acc: 0.9335 - val_loss: 0.2474 - val_acc: 0.8960\n",
      "Epoch 13/15\n",
      "2000/2000 [==============================] - 1s 300us/step - loss: 0.1872 - acc: 0.9315 - val_loss: 0.2424 - val_acc: 0.9000\n",
      "Epoch 14/15\n",
      "2000/2000 [==============================] - 1s 295us/step - loss: 0.1773 - acc: 0.9395 - val_loss: 0.2427 - val_acc: 0.9010\n",
      "Epoch 15/15\n",
      "2000/2000 [==============================] - 1s 303us/step - loss: 0.1635 - acc: 0.9445 - val_loss: 0.2419 - val_acc: 0.8960\n"
     ]
    }
   ],
   "source": [
    "from keras import models\n",
    "from keras import layers\n",
    "from keras import optimizers\n",
    "\n",
    "model = models.Sequential()\n",
    "model.add(layers.Dense(256, activation='relu', input_dim=4 * 4 * 512))\n",
    "model.add(layers.Dropout(0.5))\n",
    "model.add(layers.Dense(1, activation='sigmoid'))\n",
    "\n",
    "model.compile(optimizer=optimizers.RMSprop(lr=2e-5),\n",
    "              loss='binary_crossentropy',\n",
    "              metrics=['acc'])\n",
    "\n",
    "history = model.fit(train_features, train_labels,\n",
    "                    epochs=15,\n",
    "                    batch_size=20,\n",
    "                    validation_data=(validation_features, validation_labels))"
   ]
  },
  {
   "cell_type": "markdown",
   "metadata": {
    "colab_type": "text",
    "id": "SwPeVzL0-Dx0"
   },
   "source": [
    "## I then plot my training and validation metrics. My validation and training accuracy and loss are roughly equal meaning that my model is not overfit. If you look at the Chollet example his training accuracy and loss are much better than the validation accuracy and loss so the Chollet example seems more overfit than my model."
   ]
  },
  {
   "cell_type": "markdown",
   "metadata": {
    "colab_type": "text",
    "id": "NC-_Gdgq9JbB"
   },
   "source": [
    "Training is very fast, since we only have to deal with two `Dense` layers -- an epoch takes less than one second even on CPU.\n",
    "\n",
    "Let's take a look at the loss and accuracy curves during training:"
   ]
  },
  {
   "cell_type": "code",
   "execution_count": 0,
   "metadata": {
    "colab": {
     "base_uri": "https://localhost:8080/",
     "height": 545
    },
    "colab_type": "code",
    "executionInfo": {
     "elapsed": 1144,
     "status": "ok",
     "timestamp": 1563249257370,
     "user": {
      "displayName": "Robert Chang",
      "photoUrl": "",
      "userId": "08300392475581311813"
     },
     "user_tz": 240
    },
    "id": "YDnj9pJC6joP",
    "outputId": "d6c5dd71-ac3d-43c2-b787-4704623f978d"
   },
   "outputs": [
    {
     "data": {
      "image/png": "[encoded data removed]",
      "text/plain": [
       "<Figure size 432x288 with 1 Axes>"
      ]
     },
     "metadata": {
      "tags": []
     },
     "output_type": "display_data"
    },
    {
     "data": {
      "image/png": "[encoded data removed]",
      "text/plain": [
       "<Figure size 432x288 with 1 Axes>"
      ]
     },
     "metadata": {
      "tags": []
     },
     "output_type": "display_data"
    }
   ],
   "source": [
    "import matplotlib.pyplot as plt\n",
    "\n",
    "acc = MY1history.history['acc']\n",
    "val_acc = MY1history.history['val_acc']\n",
    "loss = MY1history.history['loss']\n",
    "val_loss = MY1history.history['val_loss']\n",
    "\n",
    "epochs = range(len(acc))\n",
    "\n",
    "plt.plot(epochs, acc, 'bo', label='Training acc')\n",
    "plt.plot(epochs, val_acc, 'b', label='Validation acc')\n",
    "plt.title('Training and validation accuracy')\n",
    "plt.legend()\n",
    "\n",
    "plt.figure()\n",
    "\n",
    "plt.plot(epochs, loss, 'bo', label='Training loss')\n",
    "plt.plot(epochs, val_loss, 'b', label='Validation loss')\n",
    "plt.title('Training and validation loss')\n",
    "plt.legend()\n",
    "\n",
    "plt.show()"
   ]
  },
  {
   "cell_type": "code",
   "execution_count": 0,
   "metadata": {
    "colab": {
     "base_uri": "https://localhost:8080/",
     "height": 545
    },
    "colab_type": "code",
    "executionInfo": {
     "elapsed": 591,
     "status": "ok",
     "timestamp": 1563103377948,
     "user": {
      "displayName": "Robert Chang",
      "photoUrl": "",
      "userId": "08300392475581311813"
     },
     "user_tz": 240
    },
    "id": "4yjczs6I9JbC",
    "outputId": "a14241ac-3dc7-4b6b-8d5d-c8b8279483d1"
   },
   "outputs": [
    {
     "data": {
      "image/png": "[encoded data removed]",
      "text/plain": [
       "<Figure size 432x288 with 1 Axes>"
      ]
     },
     "metadata": {
      "tags": []
     },
     "output_type": "display_data"
    },
    {
     "data": {
      "image/png": "[encoded data removed]",
      "text/plain": [
       "<Figure size 432x288 with 1 Axes>"
      ]
     },
     "metadata": {
      "tags": []
     },
     "output_type": "display_data"
    }
   ],
   "source": [
    "import matplotlib.pyplot as plt\n",
    "\n",
    "acc = history.history['acc']\n",
    "val_acc = history.history['val_acc']\n",
    "loss = history.history['loss']\n",
    "val_loss = history.history['val_loss']\n",
    "\n",
    "epochs = range(len(acc))\n",
    "\n",
    "plt.plot(epochs, acc, 'bo', label='Training acc')\n",
    "plt.plot(epochs, val_acc, 'b', label='Validation acc')\n",
    "plt.title('Training and validation accuracy')\n",
    "plt.legend()\n",
    "\n",
    "plt.figure()\n",
    "\n",
    "plt.plot(epochs, loss, 'bo', label='Training loss')\n",
    "plt.plot(epochs, val_loss, 'b', label='Validation loss')\n",
    "plt.title('Training and validation loss')\n",
    "plt.legend()\n",
    "\n",
    "plt.show()"
   ]
  },
  {
   "cell_type": "markdown",
   "metadata": {
    "colab_type": "text",
    "id": "609UABMZ9JbJ"
   },
   "source": [
    "\n",
    "We reach a validation accuracy of about 90%, much better than what we could achieve in the previous section with our small model trained from \n",
    "scratch. However, our plots also indicate that we are overfitting almost from the start -- despite using dropout with a fairly large rate. \n",
    "This is because this technique does not leverage data augmentation, which is essential to preventing overfitting with small image datasets.\n",
    "\n",
    "Now, let's review the second technique we mentioned for doing feature extraction, which is much slower and more expensive, but which allows \n",
    "us to leverage data augmentation during training: extending the `conv_base` model and running it end-to-end on the inputs. Note that this \n",
    "technique is in fact so expensive that you should only attempt it if you have access to a GPU: it is absolutely intractable on CPU. If you \n",
    "cannot run your code on GPU, then the previous technique is the way to go.\n",
    "\n",
    "Because models behave just like layers, you can add a model (like our `conv_base`) to a `Sequential` model just like you would add a layer. \n",
    "So you can do the following:"
   ]
  },
  {
   "cell_type": "code",
   "execution_count": 0,
   "metadata": {
    "colab": {},
    "colab_type": "code",
    "id": "Cy8xN1BT9JbL"
   },
   "outputs": [],
   "source": [
    "from keras import models\n",
    "from keras import layers\n",
    "\n",
    "model = models.Sequential()\n",
    "model.add(conv_base)\n",
    "model.add(layers.Flatten())\n",
    "model.add(layers.Dense(256, activation='relu'))\n",
    "model.add(layers.Dense(1, activation='sigmoid'))"
   ]
  },
  {
   "cell_type": "markdown",
   "metadata": {
    "colab_type": "text",
    "id": "2iR9ZZgl-mdP"
   },
   "source": [
    "## I then try the second approach which is to create a new model that extends the VGG16 model with my convolutional layer and two dense layers added on, and running the inputs end-to-end."
   ]
  },
  {
   "cell_type": "code",
   "execution_count": 0,
   "metadata": {
    "colab": {},
    "colab_type": "code",
    "id": "H61UDBkQhei_"
   },
   "outputs": [],
   "source": [
    "MYmodel = models.Sequential()\n",
    "MYmodel.add(conv_base)\n",
    "MYmodel.add(layers.Conv2D(32, (3, 3), activation='relu', input_shape=(4, 4, 512)))\n",
    "MYmodel.add(layers.Flatten())\n",
    "MYmodel.add(layers.Dense(256, activation='relu'))\n",
    "MYmodel.add(layers.Dense(1, activation='sigmoid'))"
   ]
  },
  {
   "cell_type": "markdown",
   "metadata": {
    "colab_type": "text",
    "id": "thM7YCxg-4hP"
   },
   "source": [
    "## Here is a summary of my model, you can see with the convolutional layer I added, my model has more layers than Chollet's example."
   ]
  },
  {
   "cell_type": "markdown",
   "metadata": {
    "colab_type": "text",
    "id": "RaWp7mcd9JbR"
   },
   "source": [
    "This is what our model looks like now:"
   ]
  },
  {
   "cell_type": "code",
   "execution_count": 0,
   "metadata": {
    "colab": {
     "base_uri": "https://localhost:8080/",
     "height": 306
    },
    "colab_type": "code",
    "executionInfo": {
     "elapsed": 205,
     "status": "ok",
     "timestamp": 1563108518307,
     "user": {
      "displayName": "Robert Chang",
      "photoUrl": "",
      "userId": "08300392475581311813"
     },
     "user_tz": 240
    },
    "id": "3SWNb1aphwPM",
    "outputId": "1fe51d2a-17f1-4f36-e71d-b866c02399cb"
   },
   "outputs": [
    {
     "name": "stdout",
     "output_type": "stream",
     "text": [
      "_________________________________________________________________\n",
      "Layer (type)                 Output Shape              Param #   \n",
      "=================================================================\n",
      "vgg16 (Model)                (None, 4, 4, 512)         14714688  \n",
      "_________________________________________________________________\n",
      "conv2d_2 (Conv2D)            (None, 2, 2, 32)          147488    \n",
      "_________________________________________________________________\n",
      "flatten_2 (Flatten)          (None, 128)               0         \n",
      "_________________________________________________________________\n",
      "dense_5 (Dense)              (None, 256)               33024     \n",
      "_________________________________________________________________\n",
      "dense_6 (Dense)              (None, 1)                 257       \n",
      "=================================================================\n",
      "Total params: 14,895,457\n",
      "Trainable params: 2,540,577\n",
      "Non-trainable params: 12,354,880\n",
      "_________________________________________________________________\n"
     ]
    }
   ],
   "source": [
    "MYmodel.summary()"
   ]
  },
  {
   "cell_type": "code",
   "execution_count": 0,
   "metadata": {
    "colab": {
     "base_uri": "https://localhost:8080/",
     "height": 272
    },
    "colab_type": "code",
    "executionInfo": {
     "elapsed": 212,
     "status": "ok",
     "timestamp": 1563103454204,
     "user": {
      "displayName": "Robert Chang",
      "photoUrl": "",
      "userId": "08300392475581311813"
     },
     "user_tz": 240
    },
    "id": "sldUK8tS9JbT",
    "outputId": "50bcc4d3-7f64-4729-d64c-3f2f22804032"
   },
   "outputs": [
    {
     "name": "stdout",
     "output_type": "stream",
     "text": [
      "_________________________________________________________________\n",
      "Layer (type)                 Output Shape              Param #   \n",
      "=================================================================\n",
      "vgg16 (Model)                (None, 4, 4, 512)         14714688  \n",
      "_________________________________________________________________\n",
      "flatten_1 (Flatten)          (None, 8192)              0         \n",
      "_________________________________________________________________\n",
      "dense_3 (Dense)              (None, 256)               2097408   \n",
      "_________________________________________________________________\n",
      "dense_4 (Dense)              (None, 1)                 257       \n",
      "=================================================================\n",
      "Total params: 16,812,353\n",
      "Trainable params: 16,812,353\n",
      "Non-trainable params: 0\n",
      "_________________________________________________________________\n"
     ]
    }
   ],
   "source": [
    "model.summary()"
   ]
  },
  {
   "cell_type": "markdown",
   "metadata": {
    "colab_type": "text",
    "id": "Y1cItc8V9JbX"
   },
   "source": [
    "As you can see, the convolutional base of VGG16 has 14,714,688 parameters, which is very large. The classifier we are adding on top has 2 \n",
    "million parameters.\n",
    "\n",
    "Before we compile and train our model, a very important thing to do is to freeze the convolutional base. \"Freezing\" a layer or set of \n",
    "layers means preventing their weights from getting updated during training. If we don't do this, then the representations that were \n",
    "previously learned by the convolutional base would get modified during training. Since the `Dense` layers on top are randomly initialized, \n",
    "very large weight updates would be propagated through the network, effectively destroying the representations previously learned.\n",
    "\n",
    "In Keras, freezing a network is done by setting its `trainable` attribute to `False`:"
   ]
  },
  {
   "cell_type": "code",
   "execution_count": 0,
   "metadata": {
    "colab": {
     "base_uri": "https://localhost:8080/",
     "height": 34
    },
    "colab_type": "code",
    "executionInfo": {
     "elapsed": 205,
     "status": "ok",
     "timestamp": 1563103661403,
     "user": {
      "displayName": "Robert Chang",
      "photoUrl": "",
      "userId": "08300392475581311813"
     },
     "user_tz": 240
    },
    "id": "fKn5Zcci9JbZ",
    "outputId": "a39e70c4-7eb1-4438-c947-03ae047d5272"
   },
   "outputs": [
    {
     "name": "stdout",
     "output_type": "stream",
     "text": [
      "This is the number of trainable weights before freezing the conv base: 30\n"
     ]
    }
   ],
   "source": [
    "print('This is the number of trainable weights '\n",
    "      'before freezing the conv base:', len(model.trainable_weights))"
   ]
  },
  {
   "cell_type": "code",
   "execution_count": 0,
   "metadata": {
    "colab": {},
    "colab_type": "code",
    "id": "8NuOUtj69Jbe"
   },
   "outputs": [],
   "source": [
    "conv_base.trainable = False"
   ]
  },
  {
   "cell_type": "code",
   "execution_count": 0,
   "metadata": {
    "colab": {
     "base_uri": "https://localhost:8080/",
     "height": 34
    },
    "colab_type": "code",
    "executionInfo": {
     "elapsed": 214,
     "status": "ok",
     "timestamp": 1563103665879,
     "user": {
      "displayName": "Robert Chang",
      "photoUrl": "",
      "userId": "08300392475581311813"
     },
     "user_tz": 240
    },
    "id": "aOY5w6799Jbj",
    "outputId": "e2909a98-d0a3-4bf4-d884-cb0ab0d7509c"
   },
   "outputs": [
    {
     "name": "stdout",
     "output_type": "stream",
     "text": [
      "This is the number of trainable weights after freezing the conv base: 4\n"
     ]
    }
   ],
   "source": [
    "print('This is the number of trainable weights '\n",
    "      'after freezing the conv base:', len(model.trainable_weights))"
   ]
  },
  {
   "cell_type": "markdown",
   "metadata": {
    "colab_type": "text",
    "id": "zWxRe7s_9Jbo"
   },
   "source": [
    "With this setup, only the weights from the two `Dense` layers that we added will be trained. That's a total of four weight tensors: two per \n",
    "layer (the main weight matrix and the bias vector). Note that in order for these changes to take effect, we must first compile the model. \n",
    "If you ever modify weight trainability after compilation, you should then re-compile the model, or these changes would be ignored.\n",
    "\n",
    "Now we can start training our model, with the same data augmentation configuration that we used in our previous example:"
   ]
  },
  {
   "cell_type": "markdown",
   "metadata": {
    "colab_type": "text",
    "id": "twUc9zTJ_olz"
   },
   "source": [
    "##  I then run my model and compare it to Chollet's model. My model has much better accuracy and loss than Chollet's model."
   ]
  },
  {
   "cell_type": "code",
   "execution_count": 0,
   "metadata": {
    "colab": {
     "base_uri": "https://localhost:8080/",
     "height": 187
    },
    "colab_type": "code",
    "executionInfo": {
     "elapsed": 104711,
     "status": "ok",
     "timestamp": 1563108697787,
     "user": {
      "displayName": "Robert Chang",
      "photoUrl": "",
      "userId": "08300392475581311813"
     },
     "user_tz": 240
    },
    "id": "BZIFN5zqiAS2",
    "outputId": "47382e54-ea95-4a69-cc21-73f8227ebfc3"
   },
   "outputs": [
    {
     "name": "stdout",
     "output_type": "stream",
     "text": [
      "Epoch 1/5\n",
      " - 23s - loss: 0.5844 - acc: 0.7090 - val_loss: 0.3777 - val_acc: 0.8780\n",
      "Epoch 2/5\n",
      " - 21s - loss: 0.4091 - acc: 0.8370 - val_loss: 0.2750 - val_acc: 0.8980\n",
      "Epoch 3/5\n",
      " - 20s - loss: 0.3203 - acc: 0.8685 - val_loss: 0.2311 - val_acc: 0.9030\n",
      "Epoch 4/5\n",
      " - 21s - loss: 0.2840 - acc: 0.8835 - val_loss: 0.2138 - val_acc: 0.9100\n",
      "Epoch 5/5\n",
      " - 20s - loss: 0.2693 - acc: 0.8870 - val_loss: 0.2073 - val_acc: 0.9150\n"
     ]
    }
   ],
   "source": [
    "MYmodel.compile(loss='binary_crossentropy',\n",
    "              optimizer=optimizers.RMSprop(lr=2e-5),\n",
    "              metrics=['acc'])\n",
    "\n",
    "MYhistory = MYmodel.fit_generator(\n",
    "      train_generator,\n",
    "      steps_per_epoch=100,\n",
    "      epochs=5,\n",
    "      validation_data=validation_generator,\n",
    "      validation_steps=50,\n",
    "      verbose=2)"
   ]
  },
  {
   "cell_type": "code",
   "execution_count": 0,
   "metadata": {
    "colab": {
     "base_uri": "https://localhost:8080/",
     "height": 221
    },
    "colab_type": "code",
    "executionInfo": {
     "elapsed": 102793,
     "status": "ok",
     "timestamp": 1563103814931,
     "user": {
      "displayName": "Robert Chang",
      "photoUrl": "",
      "userId": "08300392475581311813"
     },
     "user_tz": 240
    },
    "id": "Ocy-xhwN9Jbp",
    "outputId": "5c4fe073-83dc-48dc-a793-374bf65b1822"
   },
   "outputs": [
    {
     "name": "stdout",
     "output_type": "stream",
     "text": [
      "Found 2000 images belonging to 2 classes.\n",
      "Found 1000 images belonging to 2 classes.\n",
      "Epoch 1/5\n",
      " - 23s - loss: 0.5885 - acc: 0.6895 - val_loss: 0.4437 - val_acc: 0.8330\n",
      "Epoch 2/5\n",
      " - 20s - loss: 0.4717 - acc: 0.7975 - val_loss: 0.3764 - val_acc: 0.8480\n",
      "Epoch 3/5\n",
      " - 20s - loss: 0.4303 - acc: 0.8100 - val_loss: 0.3253 - val_acc: 0.8710\n",
      "Epoch 4/5\n",
      " - 20s - loss: 0.3946 - acc: 0.8290 - val_loss: 0.3031 - val_acc: 0.8780\n",
      "Epoch 5/5\n",
      " - 20s - loss: 0.3770 - acc: 0.8380 - val_loss: 0.2973 - val_acc: 0.8800\n"
     ]
    }
   ],
   "source": [
    "from keras.preprocessing.image import ImageDataGenerator\n",
    "from keras import optimizers\n",
    "\n",
    "train_datagen = ImageDataGenerator(\n",
    "      rescale=1./255,\n",
    "      rotation_range=40,\n",
    "      width_shift_range=0.2,\n",
    "      height_shift_range=0.2,\n",
    "      shear_range=0.2,\n",
    "      zoom_range=0.2,\n",
    "      horizontal_flip=True,\n",
    "      fill_mode='nearest')\n",
    "\n",
    "# Note that the validation data should not be augmented!\n",
    "test_datagen = ImageDataGenerator(rescale=1./255)\n",
    "\n",
    "train_generator = train_datagen.flow_from_directory(\n",
    "        # This is the target directory\n",
    "        train_dir,\n",
    "        # All images will be resized to 150x150\n",
    "        target_size=(150, 150),\n",
    "        batch_size=20,\n",
    "        # Since we use binary_crossentropy loss, we need binary labels\n",
    "        class_mode='binary')\n",
    "\n",
    "validation_generator = test_datagen.flow_from_directory(\n",
    "        validation_dir,\n",
    "        target_size=(150, 150),\n",
    "        batch_size=20,\n",
    "        class_mode='binary')\n",
    "\n",
    "model.compile(loss='binary_crossentropy',\n",
    "              optimizer=optimizers.RMSprop(lr=2e-5),\n",
    "              metrics=['acc'])\n",
    "\n",
    "history = model.fit_generator(\n",
    "      train_generator,\n",
    "      steps_per_epoch=100,\n",
    "      epochs=5,\n",
    "      validation_data=validation_generator,\n",
    "      validation_steps=50,\n",
    "      verbose=2)"
   ]
  },
  {
   "cell_type": "code",
   "execution_count": 0,
   "metadata": {
    "colab": {},
    "colab_type": "code",
    "id": "ApnHMTTkik0b"
   },
   "outputs": [],
   "source": [
    "MYmodel.save('/content/drive/My Drive/Colab Notebooks/CSCI_89_HW_3/MYmodel_cats_and_dogs_3.h5')"
   ]
  },
  {
   "cell_type": "code",
   "execution_count": 0,
   "metadata": {
    "colab": {},
    "colab_type": "code",
    "id": "rAwAOV_n9Jbt"
   },
   "outputs": [],
   "source": [
    "# model.save('cats_and_dogs_small_3.h5')\n",
    "model.save('/content/drive/My Drive/Colab Notebooks/CSCI_89_HW_3/model_cats_and_dogs_3.h5')"
   ]
  },
  {
   "cell_type": "markdown",
   "metadata": {
    "colab_type": "text",
    "id": "AzWzoR0AABTd"
   },
   "source": [
    "## Plotting my accuracy and loss and comparing it to Chollet's model, my model has much better accuracy and loss, and doesn't seem overfit. As the number of epochs increases, my validation accuracy and loss are becoming more equal to the training accuracy and loss."
   ]
  },
  {
   "cell_type": "markdown",
   "metadata": {
    "colab_type": "text",
    "id": "wBMLW2YT9Jbx"
   },
   "source": [
    "Let's plot our results again:"
   ]
  },
  {
   "cell_type": "code",
   "execution_count": 0,
   "metadata": {
    "colab": {
     "base_uri": "https://localhost:8080/",
     "height": 545
    },
    "colab_type": "code",
    "executionInfo": {
     "elapsed": 563,
     "status": "ok",
     "timestamp": 1563108775521,
     "user": {
      "displayName": "Robert Chang",
      "photoUrl": "",
      "userId": "08300392475581311813"
     },
     "user_tz": 240
    },
    "id": "T2Wv0OP4iuBx",
    "outputId": "dba33d02-06a4-49d1-f5cc-2f8afaeae8a6"
   },
   "outputs": [
    {
     "data": {
      "image/png": "[encoded data removed]",
      "text/plain": [
       "<Figure size 432x288 with 1 Axes>"
      ]
     },
     "metadata": {
      "tags": []
     },
     "output_type": "display_data"
    },
    {
     "data": {
      "image/png": "[encoded data removed]",
      "text/plain": [
       "<Figure size 432x288 with 1 Axes>"
      ]
     },
     "metadata": {
      "tags": []
     },
     "output_type": "display_data"
    }
   ],
   "source": [
    "acc = MYhistory.history['acc']\n",
    "val_acc = MYhistory.history['val_acc']\n",
    "loss = MYhistory.history['loss']\n",
    "val_loss = MYhistory.history['val_loss']\n",
    "\n",
    "epochs = range(len(acc))\n",
    "\n",
    "plt.plot(epochs, acc, 'bo', label='Training acc')\n",
    "plt.plot(epochs, val_acc, 'b', label='Validation acc')\n",
    "plt.title('Training and validation accuracy')\n",
    "plt.legend()\n",
    "\n",
    "plt.figure()\n",
    "\n",
    "plt.plot(epochs, loss, 'bo', label='Training loss')\n",
    "plt.plot(epochs, val_loss, 'b', label='Validation loss')\n",
    "plt.title('Training and validation loss')\n",
    "plt.legend()\n",
    "\n",
    "plt.show()"
   ]
  },
  {
   "cell_type": "code",
   "execution_count": 0,
   "metadata": {
    "colab": {
     "base_uri": "https://localhost:8080/",
     "height": 545
    },
    "colab_type": "code",
    "executionInfo": {
     "elapsed": 623,
     "status": "ok",
     "timestamp": 1563105535746,
     "user": {
      "displayName": "Robert Chang",
      "photoUrl": "",
      "userId": "08300392475581311813"
     },
     "user_tz": 240
    },
    "id": "kPS8U6-l9Jby",
    "outputId": "b36eb494-be20-4bf2-dff9-d1beecb577e2"
   },
   "outputs": [
    {
     "data": {
      "image/png": "[encoded data removed]",
      "text/plain": [
       "<Figure size 432x288 with 1 Axes>"
      ]
     },
     "metadata": {
      "tags": []
     },
     "output_type": "display_data"
    },
    {
     "data": {
      "image/png": "[encoded data removed]",
      "text/plain": [
       "<Figure size 432x288 with 1 Axes>"
      ]
     },
     "metadata": {
      "tags": []
     },
     "output_type": "display_data"
    }
   ],
   "source": [
    "acc = history.history['acc']\n",
    "val_acc = history.history['val_acc']\n",
    "loss = history.history['loss']\n",
    "val_loss = history.history['val_loss']\n",
    "\n",
    "epochs = range(len(acc))\n",
    "\n",
    "plt.plot(epochs, acc, 'bo', label='Training acc')\n",
    "plt.plot(epochs, val_acc, 'b', label='Validation acc')\n",
    "plt.title('Training and validation accuracy')\n",
    "plt.legend()\n",
    "\n",
    "plt.figure()\n",
    "\n",
    "plt.plot(epochs, loss, 'bo', label='Training loss')\n",
    "plt.plot(epochs, val_loss, 'b', label='Validation loss')\n",
    "plt.title('Training and validation loss')\n",
    "plt.legend()\n",
    "\n",
    "plt.show()"
   ]
  },
  {
   "cell_type": "markdown",
   "metadata": {
    "colab_type": "text",
    "id": "0HQV251r9Jb1"
   },
   "source": [
    "As you can see, we reach a validation accuracy of about 96%. This is much better than our small convnet trained from scratch."
   ]
  },
  {
   "cell_type": "markdown",
   "metadata": {
    "colab_type": "text",
    "id": "NTRF8K2j9Jb3"
   },
   "source": [
    "## Fine-tuning\n",
    "\n",
    "Another widely used technique for model reuse, complementary to feature extraction, is _fine-tuning_. \n",
    "Fine-tuning consists in unfreezing a few of the top layers \n",
    "of a frozen model base used for feature extraction, and jointly training both the newly added part of the model (in our case, the \n",
    "fully-connected classifier) and these top layers. This is called \"fine-tuning\" because it slightly adjusts the more abstract \n",
    "representations of the model being reused, in order to make them more relevant for the problem at hand.\n",
    "\n",
    "![fine-tuning VGG16](https://s3.amazonaws.com/book.keras.io/img/ch5/vgg16_fine_tuning.png)"
   ]
  },
  {
   "cell_type": "markdown",
   "metadata": {
    "colab_type": "text",
    "id": "fsRIf_P99Jb4"
   },
   "source": [
    "We have stated before that it was necessary to freeze the convolution base of VGG16 in order to be able to train a randomly initialized \n",
    "classifier on top. For the same reason, it is only possible to fine-tune the top layers of the convolutional base once the classifier on \n",
    "top has already been trained. If the classified wasn't already trained, then the error signal propagating through the network during \n",
    "training would be too large, and the representations previously learned by the layers being fine-tuned would be destroyed. Thus the steps \n",
    "for fine-tuning a network are as follow:\n",
    "\n",
    "* 1) Add your custom network on top of an already trained base network.\n",
    "* 2) Freeze the base network.\n",
    "* 3) Train the part you added.\n",
    "* 4) Unfreeze some layers in the base network.\n",
    "* 5) Jointly train both these layers and the part you added.\n",
    "\n",
    "We have already completed the first 3 steps when doing feature extraction. Let's proceed with the 4th step: we will unfreeze our `conv_base`, \n",
    "and then freeze individual layers inside of it.\n",
    "\n",
    "As a reminder, this is what our convolutional base looks like:"
   ]
  },
  {
   "cell_type": "code",
   "execution_count": 0,
   "metadata": {
    "colab": {
     "base_uri": "https://localhost:8080/",
     "height": 782
    },
    "colab_type": "code",
    "executionInfo": {
     "elapsed": 586,
     "status": "ok",
     "timestamp": 1563105660039,
     "user": {
      "displayName": "Robert Chang",
      "photoUrl": "",
      "userId": "08300392475581311813"
     },
     "user_tz": 240
    },
    "id": "_tdrUDPL9Jb5",
    "outputId": "3b79d260-e7cb-4549-8545-df4c147431d0"
   },
   "outputs": [
    {
     "name": "stdout",
     "output_type": "stream",
     "text": [
      "_________________________________________________________________\n",
      "Layer (type)                 Output Shape              Param #   \n",
      "=================================================================\n",
      "input_1 (InputLayer)         (None, 150, 150, 3)       0         \n",
      "_________________________________________________________________\n",
      "block1_conv1 (Conv2D)        (None, 150, 150, 64)      1792      \n",
      "_________________________________________________________________\n",
      "block1_conv2 (Conv2D)        (None, 150, 150, 64)      36928     \n",
      "_________________________________________________________________\n",
      "block1_pool (MaxPooling2D)   (None, 75, 75, 64)        0         \n",
      "_________________________________________________________________\n",
      "block2_conv1 (Conv2D)        (None, 75, 75, 128)       73856     \n",
      "_________________________________________________________________\n",
      "block2_conv2 (Conv2D)        (None, 75, 75, 128)       147584    \n",
      "_________________________________________________________________\n",
      "block2_pool (MaxPooling2D)   (None, 37, 37, 128)       0         \n",
      "_________________________________________________________________\n",
      "block3_conv1 (Conv2D)        (None, 37, 37, 256)       295168    \n",
      "_________________________________________________________________\n",
      "block3_conv2 (Conv2D)        (None, 37, 37, 256)       590080    \n",
      "_________________________________________________________________\n",
      "block3_conv3 (Conv2D)        (None, 37, 37, 256)       590080    \n",
      "_________________________________________________________________\n",
      "block3_pool (MaxPooling2D)   (None, 18, 18, 256)       0         \n",
      "_________________________________________________________________\n",
      "block4_conv1 (Conv2D)        (None, 18, 18, 512)       1180160   \n",
      "_________________________________________________________________\n",
      "block4_conv2 (Conv2D)        (None, 18, 18, 512)       2359808   \n",
      "_________________________________________________________________\n",
      "block4_conv3 (Conv2D)        (None, 18, 18, 512)       2359808   \n",
      "_________________________________________________________________\n",
      "block4_pool (MaxPooling2D)   (None, 9, 9, 512)         0         \n",
      "_________________________________________________________________\n",
      "block5_conv1 (Conv2D)        (None, 9, 9, 512)         2359808   \n",
      "_________________________________________________________________\n",
      "block5_conv2 (Conv2D)        (None, 9, 9, 512)         2359808   \n",
      "_________________________________________________________________\n",
      "block5_conv3 (Conv2D)        (None, 9, 9, 512)         2359808   \n",
      "_________________________________________________________________\n",
      "block5_pool (MaxPooling2D)   (None, 4, 4, 512)         0         \n",
      "=================================================================\n",
      "Total params: 14,714,688\n",
      "Trainable params: 0\n",
      "Non-trainable params: 14,714,688\n",
      "_________________________________________________________________\n"
     ]
    }
   ],
   "source": [
    "conv_base.summary()"
   ]
  },
  {
   "cell_type": "markdown",
   "metadata": {
    "colab_type": "text",
    "id": "ZFyE5zUt9JcM"
   },
   "source": [
    "\n",
    "We will fine-tune the last 3 convolutional layers, which means that all layers up until `block4_pool` should be frozen, and the layers \n",
    "`block5_conv1`, `block5_conv2` and `block5_conv3` should be trainable.\n",
    "\n",
    "Why not fine-tune more layers? Why not fine-tune the entire convolutional base? We could. However, we need to consider that:\n",
    "\n",
    "* Earlier layers in the convolutional base encode more generic, reusable features, while layers higher up encode more specialized features. It is \n",
    "more useful to fine-tune the more specialized features, as these are the ones that need to be repurposed on our new problem. There would \n",
    "be fast-decreasing returns in fine-tuning lower layers.\n",
    "* The more parameters we are training, the more we are at risk of overfitting. The convolutional base has 15M parameters, so it would be \n",
    "risky to attempt to train it on our small dataset.\n",
    "\n",
    "Thus, in our situation, it is a good strategy to only fine-tune the top 2 to 3 layers in the convolutional base.\n",
    "\n",
    "Let's set this up, starting from where we left off in the previous example:"
   ]
  },
  {
   "cell_type": "code",
   "execution_count": 0,
   "metadata": {
    "colab": {},
    "colab_type": "code",
    "id": "3rkhkT5S9JcP"
   },
   "outputs": [],
   "source": [
    "conv_base.trainable = True\n",
    "\n",
    "set_trainable = False\n",
    "for layer in conv_base.layers:\n",
    "    if layer.name == 'block5_conv3':\n",
    "        set_trainable = True\n",
    "    if set_trainable:\n",
    "        layer.trainable = True\n",
    "    else:\n",
    "        layer.trainable = False"
   ]
  },
  {
   "cell_type": "markdown",
   "metadata": {
    "colab_type": "text",
    "id": "H4L3IxrpA3xH"
   },
   "source": [
    "## I then follow Chollet's example for the fine tuning. The top layer of the VGG16 model is unfrozen, allowing the weights to change. This change is applied to my model as well (summary of my model below)."
   ]
  },
  {
   "cell_type": "code",
   "execution_count": 0,
   "metadata": {
    "colab": {
     "base_uri": "https://localhost:8080/",
     "height": 306
    },
    "colab_type": "code",
    "executionInfo": {
     "elapsed": 215,
     "status": "ok",
     "timestamp": 1563108832585,
     "user": {
      "displayName": "Robert Chang",
      "photoUrl": "",
      "userId": "08300392475581311813"
     },
     "user_tz": 240
    },
    "id": "NCaG2Sl8i9_v",
    "outputId": "98943af1-3db0-4bb8-b5cc-f8b79283f584"
   },
   "outputs": [
    {
     "name": "stdout",
     "output_type": "stream",
     "text": [
      "_________________________________________________________________\n",
      "Layer (type)                 Output Shape              Param #   \n",
      "=================================================================\n",
      "vgg16 (Model)                (None, 4, 4, 512)         14714688  \n",
      "_________________________________________________________________\n",
      "conv2d_2 (Conv2D)            (None, 2, 2, 32)          147488    \n",
      "_________________________________________________________________\n",
      "flatten_2 (Flatten)          (None, 128)               0         \n",
      "_________________________________________________________________\n",
      "dense_5 (Dense)              (None, 256)               33024     \n",
      "_________________________________________________________________\n",
      "dense_6 (Dense)              (None, 1)                 257       \n",
      "=================================================================\n",
      "Total params: 14,895,457\n",
      "Trainable params: 2,540,577\n",
      "Non-trainable params: 12,354,880\n",
      "_________________________________________________________________\n"
     ]
    }
   ],
   "source": [
    "MYmodel.summary()"
   ]
  },
  {
   "cell_type": "code",
   "execution_count": 0,
   "metadata": {
    "colab": {
     "base_uri": "https://localhost:8080/",
     "height": 326
    },
    "colab_type": "code",
    "executionInfo": {
     "elapsed": 205,
     "status": "ok",
     "timestamp": 1563105700642,
     "user": {
      "displayName": "Robert Chang",
      "photoUrl": "",
      "userId": "08300392475581311813"
     },
     "user_tz": 240
    },
    "id": "9Ge9Jzr49JcU",
    "outputId": "1b31acbb-780e-425d-b97e-5a7d41aec6af"
   },
   "outputs": [
    {
     "name": "stdout",
     "output_type": "stream",
     "text": [
      "_________________________________________________________________\n",
      "Layer (type)                 Output Shape              Param #   \n",
      "=================================================================\n",
      "vgg16 (Model)                (None, 4, 4, 512)         14714688  \n",
      "_________________________________________________________________\n",
      "flatten_1 (Flatten)          (None, 8192)              0         \n",
      "_________________________________________________________________\n",
      "dense_3 (Dense)              (None, 256)               2097408   \n",
      "_________________________________________________________________\n",
      "dense_4 (Dense)              (None, 1)                 257       \n",
      "=================================================================\n",
      "Total params: 14,452,545\n",
      "Trainable params: 2,097,665\n",
      "Non-trainable params: 12,354,880\n",
      "_________________________________________________________________\n"
     ]
    },
    {
     "name": "stderr",
     "output_type": "stream",
     "text": [
      "/usr/local/lib/python3.6/dist-packages/keras/engine/training.py:490: UserWarning: Discrepancy between trainable weights and collected trainable weights, did you set `model.trainable` without calling `model.compile` after ?\n",
      "  'Discrepancy between trainable weights and collected trainable'\n"
     ]
    }
   ],
   "source": [
    "model.summary()"
   ]
  },
  {
   "cell_type": "markdown",
   "metadata": {
    "colab_type": "text",
    "id": "kjkTZEY09Jca"
   },
   "source": [
    "Now we can start fine-tuning our network. We will do this with the RMSprop optimizer, using a very low learning rate. The reason for using \n",
    "a low learning rate is that we want to limit the magnitude of the modifications we make to the representations of the 3 layers that we are \n",
    "fine-tuning. Updates that are too large may harm these representations.\n",
    "\n",
    "Now let's proceed with fine-tuning:"
   ]
  },
  {
   "cell_type": "markdown",
   "metadata": {
    "colab_type": "text",
    "id": "eSS2DGZUBYWy"
   },
   "source": [
    "## I then run my model with the RMSprop optimizer using a very low learning rate, similar to the Chollet example. My accuracy and loss are slightly better than the Chollet example."
   ]
  },
  {
   "cell_type": "code",
   "execution_count": 0,
   "metadata": {
    "colab": {
     "base_uri": "https://localhost:8080/",
     "height": 1000
    },
    "colab_type": "code",
    "executionInfo": {
     "elapsed": 2126012,
     "status": "ok",
     "timestamp": 1563111024339,
     "user": {
      "displayName": "Robert Chang",
      "photoUrl": "",
      "userId": "08300392475581311813"
     },
     "user_tz": 240
    },
    "id": "QXl5l5UnjB2K",
    "outputId": "d947989a-4258-4dc8-8f32-62a169fdbdd4"
   },
   "outputs": [
    {
     "name": "stdout",
     "output_type": "stream",
     "text": [
      "Epoch 1/100\n",
      "100/100 [==============================] - 23s 230ms/step - loss: 0.2355 - acc: 0.9120 - val_loss: 0.2011 - val_acc: 0.9180\n",
      "Epoch 2/100\n",
      "100/100 [==============================] - 21s 212ms/step - loss: 0.2365 - acc: 0.9005 - val_loss: 0.2036 - val_acc: 0.9100\n",
      "Epoch 3/100\n",
      "100/100 [==============================] - 21s 212ms/step - loss: 0.2353 - acc: 0.9060 - val_loss: 0.2064 - val_acc: 0.9170\n",
      "Epoch 4/100\n",
      "100/100 [==============================] - 21s 214ms/step - loss: 0.2232 - acc: 0.9100 - val_loss: 0.1886 - val_acc: 0.9320\n",
      "Epoch 5/100\n",
      "100/100 [==============================] - 21s 211ms/step - loss: 0.2243 - acc: 0.9065 - val_loss: 0.1919 - val_acc: 0.9270\n",
      "Epoch 6/100\n",
      "100/100 [==============================] - 21s 208ms/step - loss: 0.2146 - acc: 0.9060 - val_loss: 0.2016 - val_acc: 0.9190\n",
      "Epoch 7/100\n",
      "100/100 [==============================] - 21s 213ms/step - loss: 0.2080 - acc: 0.9190 - val_loss: 0.1893 - val_acc: 0.9250\n",
      "Epoch 8/100\n",
      "100/100 [==============================] - 22s 215ms/step - loss: 0.2125 - acc: 0.9085 - val_loss: 0.1993 - val_acc: 0.9130\n",
      "Epoch 9/100\n",
      "100/100 [==============================] - 21s 212ms/step - loss: 0.1947 - acc: 0.9225 - val_loss: 0.1983 - val_acc: 0.9220\n",
      "Epoch 10/100\n",
      "100/100 [==============================] - 21s 211ms/step - loss: 0.2045 - acc: 0.9125 - val_loss: 0.1983 - val_acc: 0.9210\n",
      "Epoch 11/100\n",
      "100/100 [==============================] - 21s 207ms/step - loss: 0.1949 - acc: 0.9175 - val_loss: 0.1988 - val_acc: 0.9260\n",
      "Epoch 12/100\n",
      "100/100 [==============================] - 21s 212ms/step - loss: 0.1935 - acc: 0.9230 - val_loss: 0.1981 - val_acc: 0.9270\n",
      "Epoch 13/100\n",
      "100/100 [==============================] - 21s 211ms/step - loss: 0.1780 - acc: 0.9295 - val_loss: 0.1851 - val_acc: 0.9230\n",
      "Epoch 14/100\n",
      "100/100 [==============================] - 21s 212ms/step - loss: 0.1947 - acc: 0.9160 - val_loss: 0.1975 - val_acc: 0.9230\n",
      "Epoch 15/100\n",
      "100/100 [==============================] - 21s 211ms/step - loss: 0.1726 - acc: 0.9325 - val_loss: 0.1966 - val_acc: 0.9210\n",
      "Epoch 16/100\n",
      "100/100 [==============================] - 20s 205ms/step - loss: 0.1939 - acc: 0.9275 - val_loss: 0.1893 - val_acc: 0.9240\n",
      "Epoch 17/100\n",
      "100/100 [==============================] - 21s 212ms/step - loss: 0.1823 - acc: 0.9275 - val_loss: 0.2006 - val_acc: 0.9190\n",
      "Epoch 18/100\n",
      "100/100 [==============================] - 21s 213ms/step - loss: 0.1791 - acc: 0.9260 - val_loss: 0.1819 - val_acc: 0.9250\n",
      "Epoch 19/100\n",
      "100/100 [==============================] - 21s 211ms/step - loss: 0.1843 - acc: 0.9255 - val_loss: 0.1876 - val_acc: 0.9320\n",
      "Epoch 20/100\n",
      "100/100 [==============================] - 21s 213ms/step - loss: 0.1635 - acc: 0.9435 - val_loss: 0.1966 - val_acc: 0.9200\n",
      "Epoch 21/100\n",
      "100/100 [==============================] - 21s 212ms/step - loss: 0.1720 - acc: 0.9315 - val_loss: 0.1894 - val_acc: 0.9220\n",
      "Epoch 22/100\n",
      "100/100 [==============================] - 22s 218ms/step - loss: 0.1784 - acc: 0.9305 - val_loss: 0.2006 - val_acc: 0.9230\n",
      "Epoch 23/100\n",
      "100/100 [==============================] - 21s 215ms/step - loss: 0.1619 - acc: 0.9295 - val_loss: 0.2053 - val_acc: 0.9170\n",
      "Epoch 24/100\n",
      "100/100 [==============================] - 21s 212ms/step - loss: 0.1539 - acc: 0.9395 - val_loss: 0.1930 - val_acc: 0.9250\n",
      "Epoch 25/100\n",
      "100/100 [==============================] - 21s 213ms/step - loss: 0.1561 - acc: 0.9345 - val_loss: 0.2082 - val_acc: 0.9200\n",
      "Epoch 26/100\n",
      "100/100 [==============================] - 21s 213ms/step - loss: 0.1450 - acc: 0.9455 - val_loss: 0.1923 - val_acc: 0.9230\n",
      "Epoch 27/100\n",
      "100/100 [==============================] - 21s 213ms/step - loss: 0.1651 - acc: 0.9305 - val_loss: 0.1945 - val_acc: 0.9200\n",
      "Epoch 28/100\n",
      "100/100 [==============================] - 21s 212ms/step - loss: 0.1555 - acc: 0.9350 - val_loss: 0.1994 - val_acc: 0.9210\n",
      "Epoch 29/100\n",
      "100/100 [==============================] - 22s 217ms/step - loss: 0.1327 - acc: 0.9535 - val_loss: 0.1846 - val_acc: 0.9290\n",
      "Epoch 30/100\n",
      "100/100 [==============================] - 22s 217ms/step - loss: 0.1452 - acc: 0.9405 - val_loss: 0.2029 - val_acc: 0.9190\n",
      "Epoch 31/100\n",
      "100/100 [==============================] - 21s 210ms/step - loss: 0.1276 - acc: 0.9570 - val_loss: 0.2057 - val_acc: 0.9190\n",
      "Epoch 32/100\n",
      "100/100 [==============================] - 21s 215ms/step - loss: 0.1245 - acc: 0.9550 - val_loss: 0.1964 - val_acc: 0.9170\n",
      "Epoch 33/100\n",
      "100/100 [==============================] - 21s 214ms/step - loss: 0.1468 - acc: 0.9390 - val_loss: 0.1973 - val_acc: 0.9240\n",
      "Epoch 34/100\n",
      "100/100 [==============================] - 21s 214ms/step - loss: 0.1420 - acc: 0.9455 - val_loss: 0.1896 - val_acc: 0.9260\n",
      "Epoch 35/100\n",
      "100/100 [==============================] - 21s 213ms/step - loss: 0.1337 - acc: 0.9515 - val_loss: 0.1937 - val_acc: 0.9210\n",
      "Epoch 36/100\n",
      "100/100 [==============================] - 21s 208ms/step - loss: 0.1315 - acc: 0.9495 - val_loss: 0.2060 - val_acc: 0.9160\n",
      "Epoch 37/100\n",
      "100/100 [==============================] - 22s 216ms/step - loss: 0.1342 - acc: 0.9525 - val_loss: 0.2033 - val_acc: 0.9220\n",
      "Epoch 38/100\n",
      "100/100 [==============================] - 21s 208ms/step - loss: 0.1399 - acc: 0.9465 - val_loss: 0.2091 - val_acc: 0.9120\n",
      "Epoch 39/100\n",
      "100/100 [==============================] - 21s 212ms/step - loss: 0.1411 - acc: 0.9475 - val_loss: 0.1908 - val_acc: 0.9250\n",
      "Epoch 40/100\n",
      "100/100 [==============================] - 21s 212ms/step - loss: 0.1322 - acc: 0.9520 - val_loss: 0.1889 - val_acc: 0.9230\n",
      "Epoch 41/100\n",
      "100/100 [==============================] - 21s 212ms/step - loss: 0.1242 - acc: 0.9505 - val_loss: 0.2033 - val_acc: 0.9230\n",
      "Epoch 42/100\n",
      "100/100 [==============================] - 21s 210ms/step - loss: 0.1317 - acc: 0.9500 - val_loss: 0.2265 - val_acc: 0.9130\n",
      "Epoch 43/100\n",
      "100/100 [==============================] - 22s 216ms/step - loss: 0.1039 - acc: 0.9625 - val_loss: 0.2128 - val_acc: 0.9180\n",
      "Epoch 44/100\n",
      "100/100 [==============================] - 21s 213ms/step - loss: 0.1301 - acc: 0.9480 - val_loss: 0.1888 - val_acc: 0.9270\n",
      "Epoch 45/100\n",
      "100/100 [==============================] - 21s 213ms/step - loss: 0.1185 - acc: 0.9555 - val_loss: 0.2110 - val_acc: 0.9200\n",
      "Epoch 46/100\n",
      "100/100 [==============================] - 21s 209ms/step - loss: 0.1282 - acc: 0.9570 - val_loss: 0.1920 - val_acc: 0.9250\n",
      "Epoch 47/100\n",
      "100/100 [==============================] - 21s 211ms/step - loss: 0.1090 - acc: 0.9570 - val_loss: 0.2119 - val_acc: 0.9140\n",
      "Epoch 48/100\n",
      "100/100 [==============================] - 21s 212ms/step - loss: 0.1160 - acc: 0.9525 - val_loss: 0.2170 - val_acc: 0.9250\n",
      "Epoch 49/100\n",
      "100/100 [==============================] - 21s 211ms/step - loss: 0.1102 - acc: 0.9585 - val_loss: 0.1952 - val_acc: 0.9210\n",
      "Epoch 50/100\n",
      "100/100 [==============================] - 21s 210ms/step - loss: 0.1070 - acc: 0.9640 - val_loss: 0.2273 - val_acc: 0.9140\n",
      "Epoch 51/100\n",
      "100/100 [==============================] - 21s 213ms/step - loss: 0.1077 - acc: 0.9595 - val_loss: 0.2287 - val_acc: 0.9180\n",
      "Epoch 52/100\n",
      "100/100 [==============================] - 21s 209ms/step - loss: 0.1121 - acc: 0.9560 - val_loss: 0.2039 - val_acc: 0.9120\n",
      "Epoch 53/100\n",
      "100/100 [==============================] - 21s 212ms/step - loss: 0.1206 - acc: 0.9565 - val_loss: 0.2001 - val_acc: 0.9230\n",
      "Epoch 54/100\n",
      "100/100 [==============================] - 21s 210ms/step - loss: 0.0995 - acc: 0.9650 - val_loss: 0.2056 - val_acc: 0.9210\n",
      "Epoch 55/100\n",
      "100/100 [==============================] - 21s 206ms/step - loss: 0.1103 - acc: 0.9600 - val_loss: 0.2049 - val_acc: 0.9220\n",
      "Epoch 56/100\n",
      "100/100 [==============================] - 21s 213ms/step - loss: 0.1070 - acc: 0.9590 - val_loss: 0.2016 - val_acc: 0.9190\n",
      "Epoch 57/100\n",
      "100/100 [==============================] - 21s 214ms/step - loss: 0.1061 - acc: 0.9610 - val_loss: 0.2014 - val_acc: 0.9230\n",
      "Epoch 58/100\n",
      "100/100 [==============================] - 22s 215ms/step - loss: 0.1028 - acc: 0.9590 - val_loss: 0.2077 - val_acc: 0.9250\n",
      "Epoch 59/100\n",
      "100/100 [==============================] - 21s 214ms/step - loss: 0.0987 - acc: 0.9640 - val_loss: 0.2096 - val_acc: 0.9200\n",
      "Epoch 60/100\n",
      "100/100 [==============================] - 21s 214ms/step - loss: 0.1048 - acc: 0.9600 - val_loss: 0.2031 - val_acc: 0.9190\n",
      "Epoch 61/100\n",
      "100/100 [==============================] - 21s 211ms/step - loss: 0.1022 - acc: 0.9675 - val_loss: 0.2102 - val_acc: 0.9240\n",
      "Epoch 62/100\n",
      "100/100 [==============================] - 21s 211ms/step - loss: 0.0978 - acc: 0.9700 - val_loss: 0.2124 - val_acc: 0.9240\n",
      "Epoch 63/100\n",
      "100/100 [==============================] - 22s 216ms/step - loss: 0.1008 - acc: 0.9630 - val_loss: 0.2217 - val_acc: 0.9130\n",
      "Epoch 64/100\n",
      "100/100 [==============================] - 21s 213ms/step - loss: 0.0948 - acc: 0.9650 - val_loss: 0.2111 - val_acc: 0.9200\n",
      "Epoch 65/100\n",
      "100/100 [==============================] - 22s 215ms/step - loss: 0.1119 - acc: 0.9585 - val_loss: 0.2072 - val_acc: 0.9220\n",
      "Epoch 66/100\n",
      "100/100 [==============================] - 22s 217ms/step - loss: 0.0925 - acc: 0.9655 - val_loss: 0.2158 - val_acc: 0.9210\n",
      "Epoch 67/100\n",
      "100/100 [==============================] - 21s 215ms/step - loss: 0.1049 - acc: 0.9605 - val_loss: 0.2135 - val_acc: 0.9210\n",
      "Epoch 68/100\n",
      "100/100 [==============================] - 21s 210ms/step - loss: 0.0767 - acc: 0.9730 - val_loss: 0.2231 - val_acc: 0.9210\n",
      "Epoch 69/100\n",
      "100/100 [==============================] - 21s 213ms/step - loss: 0.0908 - acc: 0.9685 - val_loss: 0.2143 - val_acc: 0.9270\n",
      "Epoch 70/100\n",
      "100/100 [==============================] - 21s 214ms/step - loss: 0.0939 - acc: 0.9655 - val_loss: 0.1975 - val_acc: 0.9260\n",
      "Epoch 71/100\n",
      "100/100 [==============================] - 21s 212ms/step - loss: 0.0939 - acc: 0.9620 - val_loss: 0.2188 - val_acc: 0.9160\n",
      "Epoch 72/100\n",
      "100/100 [==============================] - 21s 214ms/step - loss: 0.0841 - acc: 0.9715 - val_loss: 0.2136 - val_acc: 0.9170\n",
      "Epoch 73/100\n",
      "100/100 [==============================] - 21s 213ms/step - loss: 0.1046 - acc: 0.9590 - val_loss: 0.2214 - val_acc: 0.9120\n",
      "Epoch 74/100\n",
      "100/100 [==============================] - 21s 210ms/step - loss: 0.0933 - acc: 0.9635 - val_loss: 0.2337 - val_acc: 0.9110\n",
      "Epoch 75/100\n",
      "100/100 [==============================] - 21s 210ms/step - loss: 0.0982 - acc: 0.9595 - val_loss: 0.2172 - val_acc: 0.9210\n",
      "Epoch 76/100\n",
      "100/100 [==============================] - 21s 211ms/step - loss: 0.0818 - acc: 0.9695 - val_loss: 0.2125 - val_acc: 0.9210\n",
      "Epoch 77/100\n",
      "100/100 [==============================] - 21s 211ms/step - loss: 0.0836 - acc: 0.9685 - val_loss: 0.2148 - val_acc: 0.9240\n",
      "Epoch 78/100\n",
      "100/100 [==============================] - 21s 212ms/step - loss: 0.0903 - acc: 0.9710 - val_loss: 0.2158 - val_acc: 0.9120\n",
      "Epoch 79/100\n",
      "100/100 [==============================] - 21s 210ms/step - loss: 0.0947 - acc: 0.9655 - val_loss: 0.2171 - val_acc: 0.9250\n",
      "Epoch 80/100\n",
      "100/100 [==============================] - 21s 210ms/step - loss: 0.0844 - acc: 0.9725 - val_loss: 0.2034 - val_acc: 0.9210\n",
      "Epoch 81/100\n",
      "100/100 [==============================] - 22s 217ms/step - loss: 0.0801 - acc: 0.9705 - val_loss: 0.2335 - val_acc: 0.9200\n",
      "Epoch 82/100\n",
      "100/100 [==============================] - 21s 212ms/step - loss: 0.0805 - acc: 0.9710 - val_loss: 0.2061 - val_acc: 0.9250\n",
      "Epoch 83/100\n",
      "100/100 [==============================] - 21s 211ms/step - loss: 0.0856 - acc: 0.9675 - val_loss: 0.2127 - val_acc: 0.9230\n",
      "Epoch 84/100\n",
      "100/100 [==============================] - 21s 208ms/step - loss: 0.0746 - acc: 0.9790 - val_loss: 0.2226 - val_acc: 0.9190\n",
      "Epoch 85/100\n",
      "100/100 [==============================] - 21s 213ms/step - loss: 0.0845 - acc: 0.9680 - val_loss: 0.2185 - val_acc: 0.9260\n",
      "Epoch 86/100\n",
      "100/100 [==============================] - 21s 213ms/step - loss: 0.0712 - acc: 0.9745 - val_loss: 0.2196 - val_acc: 0.9250\n",
      "Epoch 87/100\n",
      "100/100 [==============================] - 21s 211ms/step - loss: 0.0738 - acc: 0.9755 - val_loss: 0.2237 - val_acc: 0.9180\n",
      "Epoch 88/100\n",
      "100/100 [==============================] - 21s 214ms/step - loss: 0.0706 - acc: 0.9780 - val_loss: 0.2306 - val_acc: 0.9250\n",
      "Epoch 89/100\n",
      "100/100 [==============================] - 21s 211ms/step - loss: 0.0802 - acc: 0.9680 - val_loss: 0.2029 - val_acc: 0.9260\n",
      "Epoch 90/100\n",
      "100/100 [==============================] - 21s 213ms/step - loss: 0.0871 - acc: 0.9690 - val_loss: 0.2180 - val_acc: 0.9230\n",
      "Epoch 91/100\n",
      "100/100 [==============================] - 21s 212ms/step - loss: 0.0767 - acc: 0.9695 - val_loss: 0.2288 - val_acc: 0.9190\n",
      "Epoch 92/100\n",
      "100/100 [==============================] - 22s 218ms/step - loss: 0.0769 - acc: 0.9685 - val_loss: 0.2135 - val_acc: 0.9200\n",
      "Epoch 93/100\n",
      "100/100 [==============================] - 21s 211ms/step - loss: 0.0702 - acc: 0.9720 - val_loss: 0.2171 - val_acc: 0.9230\n",
      "Epoch 94/100\n",
      "100/100 [==============================] - 21s 213ms/step - loss: 0.0777 - acc: 0.9700 - val_loss: 0.2321 - val_acc: 0.9170\n",
      "Epoch 95/100\n",
      "100/100 [==============================] - 22s 216ms/step - loss: 0.0693 - acc: 0.9780 - val_loss: 0.2293 - val_acc: 0.9230\n",
      "Epoch 96/100\n",
      "100/100 [==============================] - 21s 212ms/step - loss: 0.0738 - acc: 0.9725 - val_loss: 0.2288 - val_acc: 0.9190\n",
      "Epoch 97/100\n",
      "100/100 [==============================] - 21s 213ms/step - loss: 0.0797 - acc: 0.9730 - val_loss: 0.2232 - val_acc: 0.9200\n",
      "Epoch 98/100\n",
      "100/100 [==============================] - 21s 214ms/step - loss: 0.0659 - acc: 0.9740 - val_loss: 0.2737 - val_acc: 0.9140\n",
      "Epoch 99/100\n",
      "100/100 [==============================] - 21s 210ms/step - loss: 0.0762 - acc: 0.9710 - val_loss: 0.2347 - val_acc: 0.9210\n",
      "Epoch 100/100\n",
      "100/100 [==============================] - 21s 211ms/step - loss: 0.0722 - acc: 0.9695 - val_loss: 0.2256 - val_acc: 0.9220\n"
     ]
    }
   ],
   "source": [
    "MYmodel.compile(loss='binary_crossentropy',\n",
    "              optimizer=optimizers.RMSprop(lr=1e-5),\n",
    "              metrics=['acc'])\n",
    "\n",
    "MYhistory2 = MYmodel.fit_generator(\n",
    "      train_generator,\n",
    "      steps_per_epoch=100,\n",
    "      epochs=100,\n",
    "      validation_data=validation_generator,\n",
    "      validation_steps=50)"
   ]
  },
  {
   "cell_type": "code",
   "execution_count": 0,
   "metadata": {
    "colab": {
     "base_uri": "https://localhost:8080/",
     "height": 1000
    },
    "colab_type": "code",
    "executionInfo": {
     "elapsed": 2088968,
     "status": "ok",
     "timestamp": 1563107841671,
     "user": {
      "displayName": "Robert Chang",
      "photoUrl": "",
      "userId": "08300392475581311813"
     },
     "user_tz": 240
    },
    "id": "ZfFwEUzb9Jcb",
    "outputId": "baecaebc-c145-4f4d-d860-cb7f672ae2e9"
   },
   "outputs": [
    {
     "name": "stdout",
     "output_type": "stream",
     "text": [
      "Epoch 1/100\n",
      "100/100 [==============================] - 22s 224ms/step - loss: 0.3684 - acc: 0.8365 - val_loss: 0.2748 - val_acc: 0.8740\n",
      "Epoch 2/100\n",
      "100/100 [==============================] - 21s 210ms/step - loss: 0.3477 - acc: 0.8390 - val_loss: 0.2580 - val_acc: 0.8950\n",
      "Epoch 3/100\n",
      "100/100 [==============================] - 21s 209ms/step - loss: 0.3219 - acc: 0.8620 - val_loss: 0.2446 - val_acc: 0.8990\n",
      "Epoch 4/100\n",
      "100/100 [==============================] - 21s 207ms/step - loss: 0.3144 - acc: 0.8660 - val_loss: 0.2462 - val_acc: 0.8980\n",
      "Epoch 5/100\n",
      "100/100 [==============================] - 21s 210ms/step - loss: 0.3079 - acc: 0.8640 - val_loss: 0.2346 - val_acc: 0.9070\n",
      "Epoch 6/100\n",
      "100/100 [==============================] - 21s 206ms/step - loss: 0.2967 - acc: 0.8645 - val_loss: 0.2377 - val_acc: 0.8970\n",
      "Epoch 7/100\n",
      "100/100 [==============================] - 21s 207ms/step - loss: 0.2831 - acc: 0.8805 - val_loss: 0.2323 - val_acc: 0.9090\n",
      "Epoch 8/100\n",
      "100/100 [==============================] - 21s 207ms/step - loss: 0.2696 - acc: 0.8850 - val_loss: 0.2351 - val_acc: 0.8980\n",
      "Epoch 9/100\n",
      "100/100 [==============================] - 21s 211ms/step - loss: 0.2802 - acc: 0.8760 - val_loss: 0.2259 - val_acc: 0.9060\n",
      "Epoch 10/100\n",
      "100/100 [==============================] - 21s 210ms/step - loss: 0.2505 - acc: 0.8880 - val_loss: 0.2135 - val_acc: 0.9150\n",
      "Epoch 11/100\n",
      "100/100 [==============================] - 21s 206ms/step - loss: 0.2551 - acc: 0.8980 - val_loss: 0.2227 - val_acc: 0.9100\n",
      "Epoch 12/100\n",
      "100/100 [==============================] - 21s 207ms/step - loss: 0.2595 - acc: 0.8865 - val_loss: 0.2223 - val_acc: 0.9130\n",
      "Epoch 13/100\n",
      "100/100 [==============================] - 21s 206ms/step - loss: 0.2516 - acc: 0.8940 - val_loss: 0.2038 - val_acc: 0.9180\n",
      "Epoch 14/100\n",
      "100/100 [==============================] - 21s 206ms/step - loss: 0.2436 - acc: 0.8900 - val_loss: 0.2131 - val_acc: 0.9170\n",
      "Epoch 15/100\n",
      "100/100 [==============================] - 21s 210ms/step - loss: 0.2558 - acc: 0.8950 - val_loss: 0.2125 - val_acc: 0.9130\n",
      "Epoch 16/100\n",
      "100/100 [==============================] - 21s 205ms/step - loss: 0.2301 - acc: 0.8995 - val_loss: 0.2159 - val_acc: 0.9110\n",
      "Epoch 17/100\n",
      "100/100 [==============================] - 21s 206ms/step - loss: 0.2275 - acc: 0.9060 - val_loss: 0.2059 - val_acc: 0.9180\n",
      "Epoch 18/100\n",
      "100/100 [==============================] - 20s 205ms/step - loss: 0.2260 - acc: 0.9105 - val_loss: 0.2172 - val_acc: 0.9060\n",
      "Epoch 19/100\n",
      "100/100 [==============================] - 21s 209ms/step - loss: 0.2180 - acc: 0.9110 - val_loss: 0.2068 - val_acc: 0.9170\n",
      "Epoch 20/100\n",
      "100/100 [==============================] - 21s 207ms/step - loss: 0.2292 - acc: 0.8990 - val_loss: 0.2095 - val_acc: 0.9140\n",
      "Epoch 21/100\n",
      "100/100 [==============================] - 21s 208ms/step - loss: 0.2166 - acc: 0.9105 - val_loss: 0.2182 - val_acc: 0.9110\n",
      "Epoch 22/100\n",
      "100/100 [==============================] - 21s 209ms/step - loss: 0.2177 - acc: 0.9100 - val_loss: 0.2114 - val_acc: 0.9100\n",
      "Epoch 23/100\n",
      "100/100 [==============================] - 21s 208ms/step - loss: 0.2040 - acc: 0.9155 - val_loss: 0.2133 - val_acc: 0.9160\n",
      "Epoch 24/100\n",
      "100/100 [==============================] - 21s 208ms/step - loss: 0.2241 - acc: 0.9100 - val_loss: 0.2550 - val_acc: 0.8980\n",
      "Epoch 25/100\n",
      "100/100 [==============================] - 21s 213ms/step - loss: 0.2111 - acc: 0.9105 - val_loss: 0.2201 - val_acc: 0.9120\n",
      "Epoch 26/100\n",
      "100/100 [==============================] - 21s 210ms/step - loss: 0.2090 - acc: 0.9155 - val_loss: 0.2081 - val_acc: 0.9120\n",
      "Epoch 27/100\n",
      "100/100 [==============================] - 21s 211ms/step - loss: 0.1879 - acc: 0.9230 - val_loss: 0.2222 - val_acc: 0.9090\n",
      "Epoch 28/100\n",
      "100/100 [==============================] - 21s 208ms/step - loss: 0.2034 - acc: 0.9170 - val_loss: 0.2108 - val_acc: 0.9110\n",
      "Epoch 29/100\n",
      "100/100 [==============================] - 21s 208ms/step - loss: 0.1894 - acc: 0.9220 - val_loss: 0.2037 - val_acc: 0.9070\n",
      "Epoch 30/100\n",
      "100/100 [==============================] - 21s 207ms/step - loss: 0.1912 - acc: 0.9250 - val_loss: 0.2532 - val_acc: 0.9010\n",
      "Epoch 31/100\n",
      "100/100 [==============================] - 20s 202ms/step - loss: 0.1940 - acc: 0.9255 - val_loss: 0.2399 - val_acc: 0.9070\n",
      "Epoch 32/100\n",
      "100/100 [==============================] - 21s 208ms/step - loss: 0.1907 - acc: 0.9225 - val_loss: 0.2048 - val_acc: 0.9160\n",
      "Epoch 33/100\n",
      "100/100 [==============================] - 21s 207ms/step - loss: 0.1915 - acc: 0.9265 - val_loss: 0.2317 - val_acc: 0.9100\n",
      "Epoch 34/100\n",
      "100/100 [==============================] - 21s 210ms/step - loss: 0.1810 - acc: 0.9255 - val_loss: 0.2375 - val_acc: 0.9070\n",
      "Epoch 35/100\n",
      "100/100 [==============================] - 21s 209ms/step - loss: 0.1900 - acc: 0.9245 - val_loss: 0.2185 - val_acc: 0.9120\n",
      "Epoch 36/100\n",
      "100/100 [==============================] - 21s 208ms/step - loss: 0.1985 - acc: 0.9185 - val_loss: 0.2025 - val_acc: 0.9140\n",
      "Epoch 37/100\n",
      "100/100 [==============================] - 21s 206ms/step - loss: 0.1736 - acc: 0.9340 - val_loss: 0.2147 - val_acc: 0.9090\n",
      "Epoch 38/100\n",
      "100/100 [==============================] - 21s 210ms/step - loss: 0.1746 - acc: 0.9275 - val_loss: 0.2156 - val_acc: 0.9120\n",
      "Epoch 39/100\n",
      "100/100 [==============================] - 21s 209ms/step - loss: 0.1856 - acc: 0.9240 - val_loss: 0.1942 - val_acc: 0.9120\n",
      "Epoch 40/100\n",
      "100/100 [==============================] - 21s 209ms/step - loss: 0.1606 - acc: 0.9350 - val_loss: 0.2087 - val_acc: 0.9170\n",
      "Epoch 41/100\n",
      "100/100 [==============================] - 21s 207ms/step - loss: 0.1707 - acc: 0.9360 - val_loss: 0.2072 - val_acc: 0.9080\n",
      "Epoch 42/100\n",
      "100/100 [==============================] - 21s 208ms/step - loss: 0.1635 - acc: 0.9375 - val_loss: 0.2165 - val_acc: 0.9160\n",
      "Epoch 43/100\n",
      "100/100 [==============================] - 21s 210ms/step - loss: 0.1563 - acc: 0.9380 - val_loss: 0.2100 - val_acc: 0.9110\n",
      "Epoch 44/100\n",
      "100/100 [==============================] - 21s 207ms/step - loss: 0.1639 - acc: 0.9320 - val_loss: 0.2156 - val_acc: 0.9140\n",
      "Epoch 45/100\n",
      "100/100 [==============================] - 21s 208ms/step - loss: 0.1671 - acc: 0.9265 - val_loss: 0.2187 - val_acc: 0.9100\n",
      "Epoch 46/100\n",
      "100/100 [==============================] - 21s 210ms/step - loss: 0.1507 - acc: 0.9420 - val_loss: 0.2223 - val_acc: 0.9050\n",
      "Epoch 47/100\n",
      "100/100 [==============================] - 21s 207ms/step - loss: 0.1588 - acc: 0.9390 - val_loss: 0.2203 - val_acc: 0.9090\n",
      "Epoch 48/100\n",
      "100/100 [==============================] - 21s 210ms/step - loss: 0.1608 - acc: 0.9405 - val_loss: 0.2046 - val_acc: 0.9120\n",
      "Epoch 49/100\n",
      "100/100 [==============================] - 21s 210ms/step - loss: 0.1630 - acc: 0.9375 - val_loss: 0.2225 - val_acc: 0.9070\n",
      "Epoch 50/100\n",
      "100/100 [==============================] - 21s 209ms/step - loss: 0.1485 - acc: 0.9420 - val_loss: 0.2016 - val_acc: 0.9150\n",
      "Epoch 51/100\n",
      "100/100 [==============================] - 21s 208ms/step - loss: 0.1562 - acc: 0.9435 - val_loss: 0.2084 - val_acc: 0.9180\n",
      "Epoch 52/100\n",
      "100/100 [==============================] - 21s 207ms/step - loss: 0.1455 - acc: 0.9445 - val_loss: 0.2168 - val_acc: 0.9160\n",
      "Epoch 53/100\n",
      "100/100 [==============================] - 21s 210ms/step - loss: 0.1525 - acc: 0.9400 - val_loss: 0.2239 - val_acc: 0.9050\n",
      "Epoch 54/100\n",
      "100/100 [==============================] - 21s 212ms/step - loss: 0.1478 - acc: 0.9425 - val_loss: 0.2282 - val_acc: 0.9100\n",
      "Epoch 55/100\n",
      "100/100 [==============================] - 21s 210ms/step - loss: 0.1569 - acc: 0.9405 - val_loss: 0.2184 - val_acc: 0.9130\n",
      "Epoch 56/100\n",
      "100/100 [==============================] - 21s 207ms/step - loss: 0.1468 - acc: 0.9465 - val_loss: 0.2070 - val_acc: 0.9120\n",
      "Epoch 57/100\n",
      "100/100 [==============================] - 21s 208ms/step - loss: 0.1395 - acc: 0.9530 - val_loss: 0.2283 - val_acc: 0.9120\n",
      "Epoch 58/100\n",
      "100/100 [==============================] - 21s 210ms/step - loss: 0.1410 - acc: 0.9460 - val_loss: 0.2195 - val_acc: 0.9090\n",
      "Epoch 59/100\n",
      "100/100 [==============================] - 21s 210ms/step - loss: 0.1386 - acc: 0.9480 - val_loss: 0.2167 - val_acc: 0.9100\n",
      "Epoch 60/100\n",
      "100/100 [==============================] - 20s 204ms/step - loss: 0.1399 - acc: 0.9485 - val_loss: 0.2205 - val_acc: 0.9110\n",
      "Epoch 61/100\n",
      "100/100 [==============================] - 20s 205ms/step - loss: 0.1328 - acc: 0.9400 - val_loss: 0.2276 - val_acc: 0.9100\n",
      "Epoch 62/100\n",
      "100/100 [==============================] - 20s 204ms/step - loss: 0.1349 - acc: 0.9505 - val_loss: 0.2148 - val_acc: 0.9180\n",
      "Epoch 63/100\n",
      "100/100 [==============================] - 20s 203ms/step - loss: 0.1489 - acc: 0.9365 - val_loss: 0.2118 - val_acc: 0.9110\n",
      "Epoch 64/100\n",
      "100/100 [==============================] - 21s 206ms/step - loss: 0.1504 - acc: 0.9385 - val_loss: 0.2142 - val_acc: 0.9200\n",
      "Epoch 65/100\n",
      "100/100 [==============================] - 21s 206ms/step - loss: 0.1292 - acc: 0.9475 - val_loss: 0.2151 - val_acc: 0.9150\n",
      "Epoch 66/100\n",
      "100/100 [==============================] - 21s 206ms/step - loss: 0.1268 - acc: 0.9490 - val_loss: 0.2181 - val_acc: 0.9130\n",
      "Epoch 67/100\n",
      "100/100 [==============================] - 21s 209ms/step - loss: 0.1239 - acc: 0.9515 - val_loss: 0.2131 - val_acc: 0.9140\n",
      "Epoch 68/100\n",
      "100/100 [==============================] - 20s 203ms/step - loss: 0.1397 - acc: 0.9385 - val_loss: 0.2248 - val_acc: 0.9140\n",
      "Epoch 69/100\n",
      "100/100 [==============================] - 21s 211ms/step - loss: 0.1256 - acc: 0.9505 - val_loss: 0.2014 - val_acc: 0.9190\n",
      "Epoch 70/100\n",
      "100/100 [==============================] - 21s 210ms/step - loss: 0.1202 - acc: 0.9515 - val_loss: 0.2462 - val_acc: 0.9060\n",
      "Epoch 71/100\n",
      "100/100 [==============================] - 21s 207ms/step - loss: 0.1254 - acc: 0.9525 - val_loss: 0.2091 - val_acc: 0.9200\n",
      "Epoch 72/100\n",
      "100/100 [==============================] - 21s 210ms/step - loss: 0.1188 - acc: 0.9540 - val_loss: 0.2182 - val_acc: 0.9160\n",
      "Epoch 73/100\n",
      "100/100 [==============================] - 21s 210ms/step - loss: 0.1266 - acc: 0.9520 - val_loss: 0.2231 - val_acc: 0.9070\n",
      "Epoch 74/100\n",
      "100/100 [==============================] - 20s 202ms/step - loss: 0.1312 - acc: 0.9420 - val_loss: 0.2170 - val_acc: 0.9140\n",
      "Epoch 75/100\n",
      "100/100 [==============================] - 21s 207ms/step - loss: 0.1202 - acc: 0.9590 - val_loss: 0.2247 - val_acc: 0.9120\n",
      "Epoch 76/100\n",
      "100/100 [==============================] - 21s 205ms/step - loss: 0.1057 - acc: 0.9595 - val_loss: 0.2259 - val_acc: 0.9120\n",
      "Epoch 77/100\n",
      "100/100 [==============================] - 21s 209ms/step - loss: 0.1156 - acc: 0.9540 - val_loss: 0.2433 - val_acc: 0.9150\n",
      "Epoch 78/100\n",
      "100/100 [==============================] - 21s 207ms/step - loss: 0.1099 - acc: 0.9585 - val_loss: 0.2139 - val_acc: 0.9180\n",
      "Epoch 79/100\n",
      "100/100 [==============================] - 21s 206ms/step - loss: 0.1049 - acc: 0.9605 - val_loss: 0.2319 - val_acc: 0.9120\n",
      "Epoch 80/100\n",
      "100/100 [==============================] - 21s 206ms/step - loss: 0.1214 - acc: 0.9570 - val_loss: 0.2079 - val_acc: 0.9180\n",
      "Epoch 81/100\n",
      "100/100 [==============================] - 21s 207ms/step - loss: 0.1206 - acc: 0.9465 - val_loss: 0.2269 - val_acc: 0.9170\n",
      "Epoch 82/100\n",
      "100/100 [==============================] - 21s 207ms/step - loss: 0.1186 - acc: 0.9565 - val_loss: 0.2177 - val_acc: 0.9170\n",
      "Epoch 83/100\n",
      "100/100 [==============================] - 21s 210ms/step - loss: 0.1116 - acc: 0.9595 - val_loss: 0.2537 - val_acc: 0.9050\n",
      "Epoch 84/100\n",
      "100/100 [==============================] - 21s 213ms/step - loss: 0.1167 - acc: 0.9515 - val_loss: 0.2159 - val_acc: 0.9190\n",
      "Epoch 85/100\n",
      "100/100 [==============================] - 21s 211ms/step - loss: 0.1104 - acc: 0.9565 - val_loss: 0.2120 - val_acc: 0.9170\n",
      "Epoch 86/100\n",
      "100/100 [==============================] - 21s 206ms/step - loss: 0.1081 - acc: 0.9590 - val_loss: 0.2205 - val_acc: 0.9210\n",
      "Epoch 87/100\n",
      "100/100 [==============================] - 21s 210ms/step - loss: 0.1070 - acc: 0.9590 - val_loss: 0.2005 - val_acc: 0.9250\n",
      "Epoch 88/100\n",
      "100/100 [==============================] - 21s 213ms/step - loss: 0.1027 - acc: 0.9660 - val_loss: 0.2168 - val_acc: 0.9200\n",
      "Epoch 89/100\n",
      "100/100 [==============================] - 22s 216ms/step - loss: 0.1067 - acc: 0.9595 - val_loss: 0.2382 - val_acc: 0.9090\n",
      "Epoch 90/100\n",
      "100/100 [==============================] - 22s 219ms/step - loss: 0.1008 - acc: 0.9610 - val_loss: 0.2208 - val_acc: 0.9200\n",
      "Epoch 91/100\n",
      "100/100 [==============================] - 22s 216ms/step - loss: 0.0983 - acc: 0.9640 - val_loss: 0.2231 - val_acc: 0.9170\n",
      "Epoch 92/100\n",
      "100/100 [==============================] - 21s 212ms/step - loss: 0.1033 - acc: 0.9590 - val_loss: 0.2205 - val_acc: 0.9170\n",
      "Epoch 93/100\n",
      "100/100 [==============================] - 21s 207ms/step - loss: 0.1044 - acc: 0.9595 - val_loss: 0.2234 - val_acc: 0.9200\n",
      "Epoch 94/100\n",
      "100/100 [==============================] - 21s 212ms/step - loss: 0.0844 - acc: 0.9695 - val_loss: 0.2312 - val_acc: 0.9130\n",
      "Epoch 95/100\n",
      "100/100 [==============================] - 21s 213ms/step - loss: 0.0926 - acc: 0.9670 - val_loss: 0.2149 - val_acc: 0.9220\n",
      "Epoch 96/100\n",
      "100/100 [==============================] - 21s 215ms/step - loss: 0.1038 - acc: 0.9585 - val_loss: 0.2100 - val_acc: 0.9230\n",
      "Epoch 97/100\n",
      "100/100 [==============================] - 21s 212ms/step - loss: 0.0900 - acc: 0.9625 - val_loss: 0.2227 - val_acc: 0.9140\n",
      "Epoch 98/100\n",
      "100/100 [==============================] - 21s 212ms/step - loss: 0.0978 - acc: 0.9635 - val_loss: 0.2224 - val_acc: 0.9200\n",
      "Epoch 99/100\n",
      "100/100 [==============================] - 21s 215ms/step - loss: 0.0943 - acc: 0.9680 - val_loss: 0.2166 - val_acc: 0.9180\n",
      "Epoch 100/100\n",
      "100/100 [==============================] - 21s 213ms/step - loss: 0.0943 - acc: 0.9685 - val_loss: 0.2263 - val_acc: 0.9140\n"
     ]
    }
   ],
   "source": [
    "model.compile(loss='binary_crossentropy',\n",
    "              optimizer=optimizers.RMSprop(lr=1e-5),\n",
    "              metrics=['acc'])\n",
    "\n",
    "history = model.fit_generator(\n",
    "      train_generator,\n",
    "      steps_per_epoch=100,\n",
    "      epochs=100,\n",
    "      validation_data=validation_generator,\n",
    "      validation_steps=50)"
   ]
  },
  {
   "cell_type": "code",
   "execution_count": 0,
   "metadata": {
    "colab": {},
    "colab_type": "code",
    "id": "gyWTwggKrbQU"
   },
   "outputs": [],
   "source": [
    "MYmodel.save('/content/drive/My Drive/Colab Notebooks/CSCI_89_HW_3/MYmodel_cats_and_dogs_4.h5')"
   ]
  },
  {
   "cell_type": "code",
   "execution_count": 0,
   "metadata": {
    "colab": {},
    "colab_type": "code",
    "id": "OHXLcDLx9Jci"
   },
   "outputs": [],
   "source": [
    "model.save('cats_and_dogs_small_4.h5')\n",
    "model.save('/content/drive/My Drive/Colab Notebooks/CSCI_89_HW_3/model_cats_and_dogs_4.h5')"
   ]
  },
  {
   "cell_type": "markdown",
   "metadata": {
    "colab_type": "text",
    "id": "nReBpUpU9Jcl"
   },
   "source": [
    "Let's plot our results using the same plotting code as before:"
   ]
  },
  {
   "cell_type": "markdown",
   "metadata": {
    "colab_type": "text",
    "id": "z8a37tKSBn5a"
   },
   "source": [
    "## I then plot my accuracy and loss metrics for 100 epochs, and use the exponential smoothing technique Chollet uses to make the plots easier to read. There is a wide difference between my validation accuracy and loss compared to my training accuracy and loss. The model may be slightly overfit."
   ]
  },
  {
   "cell_type": "code",
   "execution_count": 0,
   "metadata": {
    "colab": {
     "base_uri": "https://localhost:8080/",
     "height": 545
    },
    "colab_type": "code",
    "executionInfo": {
     "elapsed": 706,
     "status": "ok",
     "timestamp": 1563111094015,
     "user": {
      "displayName": "Robert Chang",
      "photoUrl": "",
      "userId": "08300392475581311813"
     },
     "user_tz": 240
    },
    "id": "pE1aE8Kirj-J",
    "outputId": "c540ea6d-4063-4e14-a57f-11beebe68e93"
   },
   "outputs": [
    {
     "data": {
      "image/png": "[encoded data removed]",
      "text/plain": [
       "<Figure size 432x288 with 1 Axes>"
      ]
     },
     "metadata": {
      "tags": []
     },
     "output_type": "display_data"
    },
    {
     "data": {
      "image/png": "[encoded data removed]",
      "text/plain": [
       "<Figure size 432x288 with 1 Axes>"
      ]
     },
     "metadata": {
      "tags": []
     },
     "output_type": "display_data"
    }
   ],
   "source": [
    "acc = MYhistory2.history['acc']\n",
    "val_acc = MYhistory2.history['val_acc']\n",
    "loss = MYhistory2.history['loss']\n",
    "val_loss = MYhistory2.history['val_loss']\n",
    "\n",
    "epochs = range(len(acc))\n",
    "\n",
    "plt.plot(epochs, acc, 'bo', label='Training acc')\n",
    "plt.plot(epochs, val_acc, 'b', label='Validation acc')\n",
    "plt.title('Training and validation accuracy')\n",
    "plt.legend()\n",
    "\n",
    "plt.figure()\n",
    "\n",
    "plt.plot(epochs, loss, 'bo', label='Training loss')\n",
    "plt.plot(epochs, val_loss, 'b', label='Validation loss')\n",
    "plt.title('Training and validation loss')\n",
    "plt.legend()\n",
    "\n",
    "plt.show()"
   ]
  },
  {
   "cell_type": "code",
   "execution_count": 0,
   "metadata": {
    "colab": {
     "base_uri": "https://localhost:8080/",
     "height": 545
    },
    "colab_type": "code",
    "executionInfo": {
     "elapsed": 665,
     "status": "ok",
     "timestamp": 1563107968016,
     "user": {
      "displayName": "Robert Chang",
      "photoUrl": "",
      "userId": "08300392475581311813"
     },
     "user_tz": 240
    },
    "id": "S6rZwu7w9Jcm",
    "outputId": "001374d8-2356-413a-cdca-99c634f6d675"
   },
   "outputs": [
    {
     "data": {
      "image/png": "[encoded data removed]",
      "text/plain": [
       "<Figure size 432x288 with 1 Axes>"
      ]
     },
     "metadata": {
      "tags": []
     },
     "output_type": "display_data"
    },
    {
     "data": {
      "image/png": "[encoded data removed]",
      "text/plain": [
       "<Figure size 432x288 with 1 Axes>"
      ]
     },
     "metadata": {
      "tags": []
     },
     "output_type": "display_data"
    }
   ],
   "source": [
    "acc = history.history['acc']\n",
    "val_acc = history.history['val_acc']\n",
    "loss = history.history['loss']\n",
    "val_loss = history.history['val_loss']\n",
    "\n",
    "epochs = range(len(acc))\n",
    "\n",
    "plt.plot(epochs, acc, 'bo', label='Training acc')\n",
    "plt.plot(epochs, val_acc, 'b', label='Validation acc')\n",
    "plt.title('Training and validation accuracy')\n",
    "plt.legend()\n",
    "\n",
    "plt.figure()\n",
    "\n",
    "plt.plot(epochs, loss, 'bo', label='Training loss')\n",
    "plt.plot(epochs, val_loss, 'b', label='Validation loss')\n",
    "plt.title('Training and validation loss')\n",
    "plt.legend()\n",
    "\n",
    "plt.show()"
   ]
  },
  {
   "cell_type": "markdown",
   "metadata": {
    "colab_type": "text",
    "id": "EK67Hhjs9Jco"
   },
   "source": [
    "\n",
    "These curves look very noisy. To make them more readable, we can smooth them by replacing every loss and accuracy with exponential moving \n",
    "averages of these quantities. Here's a trivial utility function to do this:"
   ]
  },
  {
   "cell_type": "markdown",
   "metadata": {
    "colab_type": "text",
    "id": "qkFX86EcCMNq"
   },
   "source": [
    "## Looking at my smoothed plots, the validation accuracy doesn't seem to improve much over the 100 epochs, and the validation loss is actually getting slightly worse over 100 epochs."
   ]
  },
  {
   "cell_type": "code",
   "execution_count": 0,
   "metadata": {
    "colab": {
     "base_uri": "https://localhost:8080/",
     "height": 545
    },
    "colab_type": "code",
    "executionInfo": {
     "elapsed": 670,
     "status": "ok",
     "timestamp": 1563111123892,
     "user": {
      "displayName": "Robert Chang",
      "photoUrl": "",
      "userId": "08300392475581311813"
     },
     "user_tz": 240
    },
    "id": "3yiTlocsrrUB",
    "outputId": "afef068a-c937-4aab-d697-478463bc823d"
   },
   "outputs": [
    {
     "data": {
      "image/png": "[encoded data removed]",
      "text/plain": [
       "<Figure size 432x288 with 1 Axes>"
      ]
     },
     "metadata": {
      "tags": []
     },
     "output_type": "display_data"
    },
    {
     "data": {
      "image/png": "[encoded data removed]",
      "text/plain": [
       "<Figure size 432x288 with 1 Axes>"
      ]
     },
     "metadata": {
      "tags": []
     },
     "output_type": "display_data"
    }
   ],
   "source": [
    "def smooth_curve(points, factor=0.8):\n",
    "  smoothed_points = []\n",
    "  for point in points:\n",
    "    if smoothed_points:\n",
    "      previous = smoothed_points[-1]\n",
    "      smoothed_points.append(previous * factor + point * (1 - factor))\n",
    "    else:\n",
    "      smoothed_points.append(point)\n",
    "  return smoothed_points\n",
    "\n",
    "plt.plot(epochs,\n",
    "         smooth_curve(acc), 'bo', label='Smoothed training acc')\n",
    "plt.plot(epochs,\n",
    "         smooth_curve(val_acc), 'b', label='Smoothed validation acc')\n",
    "plt.title('Training and validation accuracy')\n",
    "plt.legend()\n",
    "\n",
    "plt.figure()\n",
    "\n",
    "plt.plot(epochs,\n",
    "         smooth_curve(loss), 'bo', label='Smoothed training loss')\n",
    "plt.plot(epochs,\n",
    "         smooth_curve(val_loss), 'b', label='Smoothed validation loss')\n",
    "plt.title('Training and validation loss')\n",
    "plt.legend()\n",
    "\n",
    "plt.show()"
   ]
  },
  {
   "cell_type": "code",
   "execution_count": 0,
   "metadata": {
    "colab": {
     "base_uri": "https://localhost:8080/",
     "height": 545
    },
    "colab_type": "code",
    "executionInfo": {
     "elapsed": 643,
     "status": "ok",
     "timestamp": 1563107979499,
     "user": {
      "displayName": "Robert Chang",
      "photoUrl": "",
      "userId": "08300392475581311813"
     },
     "user_tz": 240
    },
    "id": "TH40QR7E9Jcp",
    "outputId": "8a63cba9-37d1-4fee-d598-56749b636bd5"
   },
   "outputs": [
    {
     "data": {
      "image/png": "[encoded data removed]",
      "text/plain": [
       "<Figure size 432x288 with 1 Axes>"
      ]
     },
     "metadata": {
      "tags": []
     },
     "output_type": "display_data"
    },
    {
     "data": {
      "image/png": "[encoded data removed]",
      "text/plain": [
       "<Figure size 432x288 with 1 Axes>"
      ]
     },
     "metadata": {
      "tags": []
     },
     "output_type": "display_data"
    }
   ],
   "source": [
    "def smooth_curve(points, factor=0.8):\n",
    "  smoothed_points = []\n",
    "  for point in points:\n",
    "    if smoothed_points:\n",
    "      previous = smoothed_points[-1]\n",
    "      smoothed_points.append(previous * factor + point * (1 - factor))\n",
    "    else:\n",
    "      smoothed_points.append(point)\n",
    "  return smoothed_points\n",
    "\n",
    "plt.plot(epochs,\n",
    "         smooth_curve(acc), 'bo', label='Smoothed training acc')\n",
    "plt.plot(epochs,\n",
    "         smooth_curve(val_acc), 'b', label='Smoothed validation acc')\n",
    "plt.title('Training and validation accuracy')\n",
    "plt.legend()\n",
    "\n",
    "plt.figure()\n",
    "\n",
    "plt.plot(epochs,\n",
    "         smooth_curve(loss), 'bo', label='Smoothed training loss')\n",
    "plt.plot(epochs,\n",
    "         smooth_curve(val_loss), 'b', label='Smoothed validation loss')\n",
    "plt.title('Training and validation loss')\n",
    "plt.legend()\n",
    "\n",
    "plt.show()"
   ]
  },
  {
   "cell_type": "markdown",
   "metadata": {
    "colab_type": "text",
    "id": "mqADPtMX9Jcs"
   },
   "source": [
    "\n",
    "These curves look much cleaner and more stable. We are seeing a nice 1% absolute improvement.\n",
    "\n",
    "Note that the loss curve does not show any real improvement (in fact, it is deteriorating). You may wonder, how could accuracy improve if the \n",
    "loss isn't decreasing? The answer is simple: what we display is an average of pointwise loss values, but what actually matters for accuracy \n",
    "is the distribution of the loss values, not their average, since accuracy is the result of a binary thresholding of the class probability \n",
    "predicted by the model. The model may still be improving even if this isn't reflected in the average loss.\n",
    "\n",
    "We can now finally evaluate this model on the test data:"
   ]
  },
  {
   "cell_type": "markdown",
   "metadata": {
    "colab_type": "text",
    "id": "mETH_d4BCgbm"
   },
   "source": [
    "## Evaluating my fine-tuned model on test data I have slightly better test accuracy than the Chollet example."
   ]
  },
  {
   "cell_type": "code",
   "execution_count": 0,
   "metadata": {
    "colab": {
     "base_uri": "https://localhost:8080/",
     "height": 51
    },
    "colab_type": "code",
    "executionInfo": {
     "elapsed": 4492,
     "status": "ok",
     "timestamp": 1563111159115,
     "user": {
      "displayName": "Robert Chang",
      "photoUrl": "",
      "userId": "08300392475581311813"
     },
     "user_tz": 240
    },
    "id": "5htu0lwmr0Lm",
    "outputId": "15ada58a-6d2c-4ea8-8c95-33f80d779175"
   },
   "outputs": [
    {
     "name": "stdout",
     "output_type": "stream",
     "text": [
      "Found 1000 images belonging to 2 classes.\n",
      "test acc: 0.933999993801117\n"
     ]
    }
   ],
   "source": [
    "test_generator = test_datagen.flow_from_directory(\n",
    "        test_dir,\n",
    "        target_size=(150, 150),\n",
    "        batch_size=20,\n",
    "        class_mode='binary')\n",
    "\n",
    "test_loss, test_acc = MYmodel.evaluate_generator(test_generator, steps=50)\n",
    "print('test acc:', test_acc)"
   ]
  },
  {
   "cell_type": "code",
   "execution_count": 0,
   "metadata": {
    "colab": {
     "base_uri": "https://localhost:8080/",
     "height": 51
    },
    "colab_type": "code",
    "executionInfo": {
     "elapsed": 4553,
     "status": "ok",
     "timestamp": 1563108003000,
     "user": {
      "displayName": "Robert Chang",
      "photoUrl": "",
      "userId": "08300392475581311813"
     },
     "user_tz": 240
    },
    "id": "LZQGTOXF9Jct",
    "outputId": "25bc3338-49b4-41de-d1fc-a3c82c5cd9ab"
   },
   "outputs": [
    {
     "name": "stdout",
     "output_type": "stream",
     "text": [
      "Found 1000 images belonging to 2 classes.\n",
      "test acc: 0.9289999949932098\n"
     ]
    }
   ],
   "source": [
    "test_generator = test_datagen.flow_from_directory(\n",
    "        test_dir,\n",
    "        target_size=(150, 150),\n",
    "        batch_size=20,\n",
    "        class_mode='binary')\n",
    "\n",
    "test_loss, test_acc = model.evaluate_generator(test_generator, steps=50)\n",
    "print('test acc:', test_acc)"
   ]
  },
  {
   "cell_type": "markdown",
   "metadata": {
    "colab_type": "text",
    "id": "E83XIjRG9Jcw"
   },
   "source": [
    "\n",
    "Here we get a test accuracy of 97%. In the original Kaggle competition around this dataset, this would have been one of the top results. \n",
    "However, using modern deep learning techniques, we managed to reach this result using only a very small fraction of the training data \n",
    "available (about 10%). There is a huge difference between being able to train on 20,000 samples compared to 2,000 samples!"
   ]
  },
  {
   "cell_type": "markdown",
   "metadata": {
    "colab_type": "text",
    "id": "LkK77KGH9Jcx"
   },
   "source": [
    "## Take-aways: using convnets with small datasets\n",
    "\n",
    "Here's what you should take away from the exercises of these past two sections:\n",
    "\n",
    "* Convnets are the best type of machine learning models for computer vision tasks. It is possible to train one from scratch even on a very \n",
    "small dataset, with decent results.\n",
    "* On a small dataset, overfitting will be the main issue. Data augmentation is a powerful way to fight overfitting when working with image \n",
    "data.\n",
    "* It is easy to reuse an existing convnet on a new dataset, via feature extraction. This is a very valuable technique for working with \n",
    "small image datasets.\n",
    "* As a complement to feature extraction, one may use fine-tuning, which adapts to a new problem some of the representations previously \n",
    "learned by an existing model. This pushes performance a bit further.\n",
    "\n",
    "Now you have a solid set of tools for dealing with image classification problems, in particular with small datasets."
   ]
  }
 ],
 "metadata": {
  "accelerator": "GPU",
  "colab": {
   "collapsed_sections": [],
   "name": "5.3-using-a-pretrained-convnet.ipynb",
   "provenance": [],
   "version": "0.3.2"
  },
  "kernelspec": {
   "display_name": "Python 3",
   "language": "python",
   "name": "python3"
  },
  "language_info": {
   "codemirror_mode": {
    "name": "ipython",
    "version": 3
   },
   "file_extension": ".py",
   "mimetype": "text/x-python",
   "name": "python",
   "nbconvert_exporter": "python",
   "pygments_lexer": "ipython3",
   "version": "3.6.5"
  }
 },
 "nbformat": 4,
 "nbformat_minor": 1
}
