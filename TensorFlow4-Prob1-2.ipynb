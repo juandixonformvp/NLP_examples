{
 "cells": [
  {
   "cell_type": "markdown",
   "metadata": {},
   "source": [
    "# Robert Chang\n",
    "# CSCIS-89 HW4"
   ]
  },
  {
   "cell_type": "markdown",
   "metadata": {},
   "source": [
    "## Problems 1 & 2"
   ]
  },
  {
   "cell_type": "markdown",
   "metadata": {},
   "source": [
    "## Problem 1. Calculate and print the value of y where x is a series of values starting with 1, incremented by 1 and ending at 9. Define variable x with a placeholder so that you could feed different values of x while calculating y. Use Session.run() method which is fed different x values through a fetch_dict(ionary) . Similarly, calculate and print values of z. Generate a TensorBoard graph of your calculations."
   ]
  },
  {
   "cell_type": "markdown",
   "metadata": {},
   "source": [
    "### Importing necessary packages"
   ]
  },
  {
   "cell_type": "code",
   "execution_count": 1,
   "metadata": {},
   "outputs": [
    {
     "name": "stderr",
     "output_type": "stream",
     "text": [
      "/home/rpchang/anaconda3/lib/python3.6/site-packages/h5py/__init__.py:36: FutureWarning: Conversion of the second argument of issubdtype from `float` to `np.floating` is deprecated. In future, it will be treated as `np.float64 == np.dtype(float).type`.\n",
      "  from ._conv import register_converters as _register_converters\n"
     ]
    }
   ],
   "source": [
    "import numpy as np\n",
    "import matplotlib.pyplot as plt\n",
    "from sklearn.model_selection import train_test_split\n",
    "import tensorflow as tf\n",
    "tf.logging.set_verbosity(tf.logging.ERROR)"
   ]
  },
  {
   "cell_type": "markdown",
   "metadata": {},
   "source": [
    "### I use the \"with\" command to create a sub-block that will keep variables in scope. I create a placeholder for x, and equations for y & z. I then start my session, using FileWriter to write the output to \"prob1\". I then initialize global variables and run the session. When I run the session, x values are \"fetched\" from a dictionary. I then close the session."
   ]
  },
  {
   "cell_type": "code",
   "execution_count": 6,
   "metadata": {},
   "outputs": [
    {
     "name": "stdout",
     "output_type": "stream",
     "text": [
      "[  7  13  23  37  55  77 103 133 167]\n",
      "[17.         17.5        21.66666667 26.75       32.2        37.83333333\n",
      " 43.57142857 49.375      55.22222222]\n"
     ]
    }
   ],
   "source": [
    "with tf.Graph().as_default() as g:\n",
    "    x = tf.placeholder(\"int32\", None)\n",
    "    y = 2*(x*x)+5\n",
    "    z = (3*y-4)/x\n",
    "    sess = tf.Session()\n",
    "    filewriter = tf.summary.FileWriter(\"prob1\", sess.graph)\n",
    "    sess.run(tf.global_variables_initializer())\n",
    "    result = sess.run(y, feed_dict={x: np.arange(1,10)})\n",
    "    print(result)\n",
    "    result2 = sess.run(z, feed_dict={x: np.arange(1,10)})\n",
    "    print(result2)\n",
    "    sess.close()"
   ]
  },
  {
   "cell_type": "markdown",
   "metadata": {},
   "source": [
    "### My output is now stored in folder \"prob1\". I then run the command \"tensorboard --logdir==training:prob1 --host=127.0.0.1\" from a terminal to launch Tensor Board in my browser. Tensor Board creates a diagram of my graph. Please see the Tensor Board pdf attachment for the diagram of my graph."
   ]
  },
  {
   "cell_type": "code",
   "execution_count": null,
   "metadata": {},
   "outputs": [],
   "source": []
  },
  {
   "cell_type": "markdown",
   "metadata": {},
   "source": [
    "## Problem 2. Consider 100 points along the straight line in (x, y) plane represented by the linear equation y = 0.3x + 0.2. Create a shallow neural network with one layer which will be able to predict y value corresponding to any x value in the above interval. Implement and train the network using TensorFlow API. Report on the accuracy of your model."
   ]
  },
  {
   "cell_type": "markdown",
   "metadata": {},
   "source": [
    "### I create my scatter plot in the same way I did for HW1."
   ]
  },
  {
   "cell_type": "code",
   "execution_count": 9,
   "metadata": {},
   "outputs": [
    {
     "data": {
      "text/plain": [
       "<matplotlib.collections.PathCollection at 0x7f982c17fb70>"
      ]
     },
     "execution_count": 9,
     "metadata": {},
     "output_type": "execute_result"
    },
    {
     "data": {
      "image/png": "[encoded data removed]",
      "text/plain": [
       "<Figure size 432x288 with 1 Axes>"
      ]
     },
     "metadata": {},
     "output_type": "display_data"
    }
   ],
   "source": [
    "x_range = [-2,3]\n",
    "num_points = 1000\n",
    "interval = (x_range[1] - x_range[0]) / (num_points - 1)\n",
    "\n",
    "x = []\n",
    "x.append(x_range[0])\n",
    "for i in range(num_points - 1):\n",
    "    x.append(x[i] + interval)\n",
    "    \n",
    "s = np.random.normal(0, 1, num_points)\n",
    "\n",
    "b0 = 0.2\n",
    "b1 = 0.3\n",
    "y = []\n",
    "for i in range(len(x)):\n",
    "    y.append(b1 * x[i] + b0 + s[i])\n",
    "    \n",
    "xTrain, xTest, yTrain, yTest = train_test_split(x, y, test_size = 0.2, random_state = 0, shuffle=True)\n",
    "    \n",
    "plt.scatter(x,y)"
   ]
  },
  {
   "cell_type": "markdown",
   "metadata": {},
   "source": [
    "### I then set up my neural network in tensorflow. I use 30 epochs and learning rate of 0.2, similar parameters that I used in HW1. I create placeholders for my features and labels X, Y, because I want flexibility in case the size of X, Y changes. Since this is linear regression on a single parameter, my Weight and Bias matrix both have dimension 1. My prediction is XW+B. My loss function is MSE. I optimize using a standard tensorflow Gradient Descent optimizer."
   ]
  },
  {
   "cell_type": "code",
   "execution_count": 23,
   "metadata": {},
   "outputs": [],
   "source": [
    "n = len(xTrain)\n",
    "epochs = 30\n",
    "learning_rate = 0.2\n",
    "X = tf.placeholder(\"float\") \n",
    "Y = tf.placeholder(\"float\")\n",
    "W = tf.Variable(tf.random_uniform(shape =(1,1)),name = \"W\")\n",
    "B = tf.Variable(tf.random_uniform(shape=(1,)), name = \"B\")\n",
    "y_pred = tf.add(tf.multiply(X, W), B)\n",
    "loss = tf.reduce_sum(tf.pow(y_pred-Y, 2)) / (2 * n)\n",
    "optimizer = tf.train.GradientDescentOptimizer(learning_rate).minimize(loss) "
   ]
  },
  {
   "cell_type": "markdown",
   "metadata": {},
   "source": [
    "### I then run my session in tensorflow. I initialize global variables. For each epoch I feed all the X, Y values to the optimizer and to the loss equation. I don't have to manually calculate the gradient and adjust the Weights and Bias, the tensorflow GradientDescentOptimizer automatically computes gradients for variables that are involved in the cost computation. I then print results for each epoch and store the final accuracy, Weights and Bias."
   ]
  },
  {
   "cell_type": "code",
   "execution_count": 28,
   "metadata": {},
   "outputs": [
    {
     "name": "stdout",
     "output_type": "stream",
     "text": [
      "Epoch 1 : cost = 0.93281966 W = [[0.7168085]] b = [0.32911277]\n",
      "Epoch 2 : cost = 0.7459071 W = [[0.5508162]] b = [0.2868949]\n",
      "Epoch 3 : cost = 0.6767148 W = [[0.44896424]] b = [0.26337782]\n",
      "Epoch 4 : cost = 0.65109885 W = [[0.38630664]] b = [0.25091064]\n",
      "Epoch 5 : cost = 0.64159375 W = [[0.34762537]] b = [0.24488516]\n",
      "Epoch 6 : cost = 0.63803726 W = [[0.32363248]] b = [0.24253899]\n",
      "Epoch 7 : cost = 0.6366757 W = [[0.3086565]] b = [0.2422271]\n",
      "Epoch 8 : cost = 0.6361261 W = [[0.29923066]] b = [0.24297981]\n",
      "Epoch 9 : cost = 0.6358794 W = [[0.2932336]] b = [0.24423362]\n",
      "Epoch 10 : cost = 0.6357494 W = [[0.28936592]] b = [0.24566847]\n",
      "Epoch 11 : cost = 0.63566756 W = [[0.2868288]] b = [0.24710824]\n",
      "Epoch 12 : cost = 0.6356085 W = [[0.2851307]] b = [0.24846292]\n",
      "Epoch 13 : cost = 0.63556206 W = [[0.28396818]] b = [0.24969049]\n",
      "Epoch 14 : cost = 0.63552445 W = [[0.2831517]] b = [0.2507781]\n",
      "Epoch 15 : cost = 0.6354934 W = [[0.28256318]] b = [0.25172725]\n",
      "Epoch 16 : cost = 0.63546735 W = [[0.2821277]] b = [0.2525469]\n",
      "Epoch 17 : cost = 0.635446 W = [[0.2817977]] b = [0.25325]\n",
      "Epoch 18 : cost = 0.635428 W = [[0.2815416]] b = [0.25384998]\n",
      "Epoch 19 : cost = 0.635413 W = [[0.28133938]] b = [0.2543606]\n",
      "Epoch 20 : cost = 0.6354006 W = [[0.2811775]] b = [0.2547942]\n",
      "Epoch 21 : cost = 0.6353902 W = [[0.28104588]] b = [0.25516137]\n",
      "Epoch 22 : cost = 0.6353815 W = [[0.28093797]] b = [0.25547227]\n",
      "Epoch 23 : cost = 0.63537425 W = [[0.28084853]] b = [0.25573492]\n",
      "Epoch 24 : cost = 0.63536835 W = [[0.28077483]] b = [0.25595695]\n",
      "Epoch 25 : cost = 0.6353633 W = [[0.28071314]] b = [0.25614426]\n",
      "Epoch 26 : cost = 0.6353589 W = [[0.28066128]] b = [0.25630212]\n",
      "Epoch 27 : cost = 0.6353553 W = [[0.28061798]] b = [0.25643572]\n",
      "Epoch 28 : cost = 0.6353522 W = [[0.2805815]] b = [0.25654855]\n",
      "Epoch 29 : cost = 0.63534987 W = [[0.28055093]] b = [0.25664324]\n",
      "Epoch 30 : cost = 0.63534766 W = [[0.28052554]] b = [0.25672367]\n"
     ]
    }
   ],
   "source": [
    "init = tf.global_variables_initializer()\n",
    "with tf.Session() as sess: \n",
    "    # Initializing the Variables \n",
    "    sess.run(init) \n",
    "    # Iterating through all the epochs \n",
    "    for epoch in range(epochs): \n",
    "          \n",
    "        # Feeding each data point into the optimizer using Feed Dictionary \n",
    "        for (_x, _y) in zip(xTrain, yTrain): \n",
    "            sess.run(optimizer, feed_dict = {X : _x, Y : _y}) \n",
    "          \n",
    "        # Calculating the cost a every epoch \n",
    "        c = sess.run(loss, feed_dict = {X : x, Y : y}) \n",
    "        print(\"Epoch\", (epoch + 1), \": cost =\", c, \"W =\", sess.run(W), \"b =\", sess.run(B)) \n",
    "      \n",
    "    # Storing necessary values to be used outside the Session \n",
    "    training_cost = sess.run(loss, feed_dict ={X: x, Y: y}) \n",
    "    weight = sess.run(W) \n",
    "    bias = sess.run(B)\n",
    "    sess.close()"
   ]
  },
  {
   "cell_type": "markdown",
   "metadata": {},
   "source": [
    "### I then examine the model performance on the test dataset. The plot shows the model predictions on the test data vs. the actuals. The model estimated Weights and Bias are similar to the 0.3 and 0.2 parameters given in the problem.  "
   ]
  },
  {
   "cell_type": "code",
   "execution_count": 27,
   "metadata": {},
   "outputs": [
    {
     "data": {
      "image/png": "[encoded data removed]",
      "text/plain": [
       "<Figure size 432x288 with 1 Axes>"
      ]
     },
     "metadata": {},
     "output_type": "display_data"
    }
   ],
   "source": [
    "pred = weight * xTest + bias\n",
    "# Plotting the Results \n",
    "plt.plot(xTest, yTest, 'ro', label ='Original data') \n",
    "plt.plot(xTest, np.transpose(pred), label ='Fitted line') \n",
    "plt.title('Test Dataset Result') \n",
    "plt.legend() \n",
    "plt.show() "
   ]
  }
 ],
 "metadata": {
  "kernelspec": {
   "display_name": "Python 3",
   "language": "python",
   "name": "python3"
  },
  "language_info": {
   "codemirror_mode": {
    "name": "ipython",
    "version": 3
   },
   "file_extension": ".py",
   "mimetype": "text/x-python",
   "name": "python",
   "nbconvert_exporter": "python",
   "pygments_lexer": "ipython3",
   "version": "3.6.5"
  }
 },
 "nbformat": 4,
 "nbformat_minor": 2
}
